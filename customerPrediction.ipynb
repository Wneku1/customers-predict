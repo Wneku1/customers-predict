{
 "cells": [
  {
   "cell_type": "markdown",
   "id": "4bbb574d",
   "metadata": {
    "id": "KLfj50LPPFDB",
    "papermill": {
     "duration": 0.039734,
     "end_time": "2022-01-17T21:40:45.200404",
     "exception": false,
     "start_time": "2022-01-17T21:40:45.160670",
     "status": "completed"
    },
    "tags": []
   },
   "source": [
    "### Check input files\n",
    "\n"
   ]
  },
  {
   "cell_type": "code",
   "execution_count": 29,
   "id": "45c7690a",
   "metadata": {
    "_cell_guid": "b1076dfc-b9ad-4769-8c92-a6c4dae69d19",
    "_uuid": "8f2839f25d086af736a60e9eeb907d3b93b6e0e5",
    "execution": {
     "iopub.execute_input": "2022-01-17T21:40:45.288137Z",
     "iopub.status.busy": "2022-01-17T21:40:45.287373Z",
     "iopub.status.idle": "2022-01-17T21:40:45.300617Z",
     "shell.execute_reply": "2022-01-17T21:40:45.301186Z",
     "shell.execute_reply.started": "2022-01-17T21:30:49.103682Z"
    },
    "id": "KlegH6X6PFDK",
    "papermill": {
     "duration": 0.061317,
     "end_time": "2022-01-17T21:40:45.301538",
     "exception": false,
     "start_time": "2022-01-17T21:40:45.240221",
     "status": "completed"
    },
    "tags": []
   },
   "outputs": [
    {
     "name": "stdout",
     "output_type": "stream",
     "text": [
      "datasets/test.csv\n",
      "datasets/sample.csv\n",
      "datasets/train.csv\n"
     ]
    }
   ],
   "source": [
    "import numpy as np\n",
    "import pandas as pd\n",
    "\n",
    "import os\n",
    "for dirname, _, filenames in os.walk('datasets'):\n",
    "    for filename in filenames:\n",
    "        print(os.path.join(dirname, filename))\n"
   ]
  },
  {
   "cell_type": "markdown",
   "id": "3aa3de62",
   "metadata": {
    "id": "VNwBYC2aH9UF",
    "papermill": {
     "duration": 0.038369,
     "end_time": "2022-01-17T21:40:45.378612",
     "exception": false,
     "start_time": "2022-01-17T21:40:45.340243",
     "status": "completed"
    },
    "tags": []
   },
   "source": [
    "### Import train data and create DataFrame object"
   ]
  },
  {
   "cell_type": "code",
   "execution_count": 30,
   "id": "7dc2ecfd",
   "metadata": {
    "execution": {
     "iopub.execute_input": "2022-01-17T21:40:45.462008Z",
     "iopub.status.busy": "2022-01-17T21:40:45.461151Z",
     "iopub.status.idle": "2022-01-17T21:40:45.514670Z",
     "shell.execute_reply": "2022-01-17T21:40:45.514023Z",
     "shell.execute_reply.started": "2022-01-17T21:30:49.116444Z"
    },
    "id": "rPzgqJfuH88j",
    "papermill": {
     "duration": 0.098772,
     "end_time": "2022-01-17T21:40:45.514849",
     "exception": false,
     "start_time": "2022-01-17T21:40:45.416077",
     "status": "completed"
    },
    "tags": []
   },
   "outputs": [
    {
     "name": "stdout",
     "output_type": "stream",
     "text": [
      "The files have been imported\n"
     ]
    }
   ],
   "source": [
    "train = pd.read_csv('datasets/train.csv')\n",
    "print(\"The files have been imported\")"
   ]
  },
  {
   "cell_type": "markdown",
   "id": "2a717ae3",
   "metadata": {
    "id": "W4V6zxbMnyB3",
    "papermill": {
     "duration": 0.036952,
     "end_time": "2022-01-17T21:40:45.590545",
     "exception": false,
     "start_time": "2022-01-17T21:40:45.553593",
     "status": "completed"
    },
    "tags": []
   },
   "source": [
    "### Find and display unique data\n",
    "#### This function is used to search a Data Frame and then display unique values for each feature. Thanks to this, you can find features that have the same values, e.q: `OnlineSecurity` which contains the answers: 'Yes', 'No' and 'No internet service'."
   ]
  },
  {
   "cell_type": "code",
   "execution_count": 31,
   "id": "17c8189d",
   "metadata": {
    "execution": {
     "iopub.execute_input": "2022-01-17T21:40:45.682141Z",
     "iopub.status.busy": "2022-01-17T21:40:45.679338Z",
     "iopub.status.idle": "2022-01-17T21:40:45.708254Z",
     "shell.execute_reply": "2022-01-17T21:40:45.708863Z",
     "shell.execute_reply.started": "2022-01-17T21:30:49.166618Z"
    },
    "id": "oaq_IeBSn23W",
    "outputId": "60d86d75-afa0-451c-a5d2-a43e94f24ffd",
    "papermill": {
     "duration": 0.078721,
     "end_time": "2022-01-17T21:40:45.709050",
     "exception": false,
     "start_time": "2022-01-17T21:40:45.630329",
     "status": "completed"
    },
    "tags": []
   },
   "outputs": [
    {
     "name": "stdout",
     "output_type": "stream",
     "text": [
      "customerID = ['9763-PDTKK' '1116-FRYVH' '9102-IAYHT' ... '5274-XHAKY' '3451-VAWLI'\n",
      " '8270-RKSAP'] = 5634\n",
      "gender = ['Female' 'Male'] = 2\n",
      "SeniorCitizen = [0 1] = 2\n",
      "Partner = ['No' 'Yes'] = 2\n",
      "Dependents = ['No' 'Yes'] = 2\n",
      "tenure = [ 4 48 17 38  7  5  6 11 22 35 68 56 31 43  2 25 54 10 24 46 20 72 12 27\n",
      " 60 69 66 14 64 37 39  9  3 71  1 53 51 16 44 42  8 13 65 28 45 67 61 70\n",
      " 32 52 29 49 41 23 33 30 58 36 21 26 40 19 59 57 50 15 55 18 63 47 62 34\n",
      "  0] = 73\n",
      "PhoneService = ['Yes' 'No'] = 2\n",
      "MultipleLines = ['No' 'No phone service' 'Yes'] = 3\n",
      "InternetService = ['Fiber optic' 'DSL' 'No'] = 3\n",
      "OnlineSecurity = ['Yes' 'No' 'No internet service'] = 3\n",
      "OnlineBackup = ['No' 'Yes' 'No internet service'] = 3\n",
      "DeviceProtection = ['Yes' 'No' 'No internet service'] = 3\n",
      "TechSupport = ['Yes' 'No' 'No internet service'] = 3\n",
      "StreamingTV = ['No' 'No internet service' 'Yes'] = 3\n",
      "StreamingMovies = ['Yes' 'No' 'No internet service'] = 3\n",
      "Contract = ['Month-to-month' 'Two year' 'One year'] = 3\n",
      "PaperlessBilling = ['Yes' 'No'] = 2\n",
      "PaymentMethod = ['Bank transfer (automatic)' 'Mailed check' 'Electronic check'\n",
      " 'Credit card (automatic)'] = 4\n",
      "MonthlyCharges = [94.4  39.4  85.45 ... 63.6  30.35 83.95] = 1498\n",
      "TotalCharges = ['387.2' '1978.65' '1451.6' ... '3893.6' '730.4' '597.9'] = 5278\n",
      "Churn = [1 0] = 2\n"
     ]
    }
   ],
   "source": [
    "def printUniqueValues(dataToCheck):\n",
    "    for column in dataToCheck:\n",
    "        uniqueValues = dataToCheck[column].unique()\n",
    "        uniqueCount = len(uniqueValues)\n",
    "        print(f\"{column} = {uniqueValues} = {uniqueCount}\")\n",
    "\n",
    "\n",
    "printUniqueValues(train)\n"
   ]
  },
  {
   "cell_type": "markdown",
   "id": "f4e58530",
   "metadata": {
    "id": "NiF5yDiuSh7-",
    "papermill": {
     "duration": 0.039637,
     "end_time": "2022-01-17T21:40:45.789889",
     "exception": false,
     "start_time": "2022-01-17T21:40:45.750252",
     "status": "completed"
    },
    "tags": []
   },
   "source": [
    "### DataFrame information\n",
    "#### The `info()` method provides us a basic information about featurs, like: feature's amout of data (how many values are NaN values) and the types of data (e.q int or float). It is very important information for future data processing beacuse, e.q: fetures which contains variables of type 'int' will be labeled differently than features which contains variables of type 'float'."
   ]
  },
  {
   "cell_type": "code",
   "execution_count": 32,
   "id": "efb25b1d",
   "metadata": {
    "execution": {
     "iopub.execute_input": "2022-01-17T21:40:45.878738Z",
     "iopub.status.busy": "2022-01-17T21:40:45.877707Z",
     "iopub.status.idle": "2022-01-17T21:40:45.906335Z",
     "shell.execute_reply": "2022-01-17T21:40:45.907251Z",
     "shell.execute_reply.started": "2022-01-17T21:30:49.194802Z"
    },
    "id": "vjv9O-4KSh7_",
    "papermill": {
     "duration": 0.079757,
     "end_time": "2022-01-17T21:40:45.907489",
     "exception": false,
     "start_time": "2022-01-17T21:40:45.827732",
     "status": "completed"
    },
    "tags": []
   },
   "outputs": [
    {
     "name": "stdout",
     "output_type": "stream",
     "text": [
      "<class 'pandas.core.frame.DataFrame'>\n",
      "RangeIndex: 5634 entries, 0 to 5633\n",
      "Data columns (total 21 columns):\n",
      " #   Column            Non-Null Count  Dtype  \n",
      "---  ------            --------------  -----  \n",
      " 0   customerID        5634 non-null   object \n",
      " 1   gender            5634 non-null   object \n",
      " 2   SeniorCitizen     5634 non-null   int64  \n",
      " 3   Partner           5634 non-null   object \n",
      " 4   Dependents        5634 non-null   object \n",
      " 5   tenure            5634 non-null   int64  \n",
      " 6   PhoneService      5634 non-null   object \n",
      " 7   MultipleLines     5634 non-null   object \n",
      " 8   InternetService   5634 non-null   object \n",
      " 9   OnlineSecurity    5634 non-null   object \n",
      " 10  OnlineBackup      5634 non-null   object \n",
      " 11  DeviceProtection  5634 non-null   object \n",
      " 12  TechSupport       5634 non-null   object \n",
      " 13  StreamingTV       5634 non-null   object \n",
      " 14  StreamingMovies   5634 non-null   object \n",
      " 15  Contract          5634 non-null   object \n",
      " 16  PaperlessBilling  5634 non-null   object \n",
      " 17  PaymentMethod     5634 non-null   object \n",
      " 18  MonthlyCharges    5634 non-null   float64\n",
      " 19  TotalCharges      5634 non-null   object \n",
      " 20  Churn             5634 non-null   int64  \n",
      "dtypes: float64(1), int64(3), object(17)\n",
      "memory usage: 924.5+ KB\n"
     ]
    }
   ],
   "source": [
    "train.info()"
   ]
  },
  {
   "cell_type": "markdown",
   "id": "ae92dfe3",
   "metadata": {
    "id": "6BUrNnt6BqFu",
    "papermill": {
     "duration": 0.041654,
     "end_time": "2022-01-17T21:40:45.989620",
     "exception": false,
     "start_time": "2022-01-17T21:40:45.947966",
     "status": "completed"
    },
    "tags": []
   },
   "source": [
    "### Feature with the same unique value\n",
    "#### After find specific feature with the same unique value, we connected 'No' and 'No internet service' in one value: 'No'. We decided for this operation, because, people can recognioze that 'No' and 'No internet service' is the same piece of information, but model will be interpret this value as a diffrent value. So, from model perspectiv, it can overload the model and deteriorate the learning process. In order to facilitate the learning process and reduce unnecessary variables, we have decided to take this step."
   ]
  },
  {
   "cell_type": "code",
   "execution_count": 33,
   "id": "60a8352d",
   "metadata": {
    "execution": {
     "iopub.execute_input": "2022-01-17T21:40:46.073878Z",
     "iopub.status.busy": "2022-01-17T21:40:46.072712Z",
     "iopub.status.idle": "2022-01-17T21:40:46.078731Z",
     "shell.execute_reply": "2022-01-17T21:40:46.079362Z",
     "shell.execute_reply.started": "2022-01-17T21:30:49.221111Z"
    },
    "id": "xGE4smMXBqqB",
    "papermill": {
     "duration": 0.050999,
     "end_time": "2022-01-17T21:40:46.079562",
     "exception": false,
     "start_time": "2022-01-17T21:40:46.028563",
     "status": "completed"
    },
    "tags": []
   },
   "outputs": [],
   "source": [
    "def makeOnlyYesNo(dataToTransform):\n",
    "    columnToTransform = ['OnlineSecurity', 'OnlineBackup', 'MultipleLines',\n",
    "                         'DeviceProtection', 'TechSupport', 'StreamingTV', 'StreamingMovies']\n",
    "    for colKey in columnToTransform:\n",
    "        dataToTransform[colKey] = dataToTransform[colKey].map(\n",
    "            lambda i: 'Yes' if i == 'Yes' else 'No')\n",
    "\n",
    "    return dataToTransform\n"
   ]
  },
  {
   "cell_type": "markdown",
   "id": "93d6075e",
   "metadata": {
    "id": "Wb1h6V0LCIvo",
    "papermill": {
     "duration": 0.038599,
     "end_time": "2022-01-17T21:40:46.159356",
     "exception": false,
     "start_time": "2022-01-17T21:40:46.120757",
     "status": "completed"
    },
    "tags": []
   },
   "source": [
    "### Encode and scale\n",
    "#### In this step, unique value for each feature are labeled. Due to fact that, `LabelEncoder` cannot labeled numeric value, we divided the features into those with numerical values and those with string values. For feature with numeric values we use `StandardScaler`. `StandardScaler` calculate standard score of sample x using formula provided in Equation provided below. `StandardScaler` removing the mean and scaling to unit variance. \n",
    "\n",
    "$$z = \\frac{(x - u)}{s}$$\n",
    "\n",
    "where:\\\n",
    "u  - the mean of the samples."
   ]
  },
  {
   "cell_type": "code",
   "execution_count": 34,
   "id": "9acedb2c",
   "metadata": {
    "execution": {
     "iopub.execute_input": "2022-01-17T21:40:46.318338Z",
     "iopub.status.busy": "2022-01-17T21:40:46.317605Z",
     "iopub.status.idle": "2022-01-17T21:40:47.406006Z",
     "shell.execute_reply": "2022-01-17T21:40:47.405341Z",
     "shell.execute_reply.started": "2022-01-17T21:30:49.229799Z"
    },
    "id": "TDTofclxCNXy",
    "papermill": {
     "duration": 1.140595,
     "end_time": "2022-01-17T21:40:47.406161",
     "exception": false,
     "start_time": "2022-01-17T21:40:46.265566",
     "status": "completed"
    },
    "tags": []
   },
   "outputs": [],
   "source": [
    "from sklearn.preprocessing import LabelEncoder\n",
    "from sklearn.preprocessing import StandardScaler\n",
    "\n",
    "numericColumntoTransform = ['tenure', 'MonthlyCharges', 'TotalCharges']\n",
    "columnToTransform = ['gender',\n",
    "                     'SeniorCitizen',\n",
    "                     'Partner',\n",
    "                     'Dependents',\n",
    "                     'PhoneService',\n",
    "                     'MultipleLines',\n",
    "                     'InternetService',\n",
    "                     'OnlineSecurity',\n",
    "                     'OnlineBackup',\n",
    "                     'DeviceProtection',\n",
    "                     'TechSupport',\n",
    "                     'StreamingTV',\n",
    "                     'StreamingMovies',\n",
    "                     'Contract',\n",
    "                     'PaperlessBilling',\n",
    "                     'PaymentMethod']\n",
    "\n",
    "le_dict = {col: LabelEncoder() for col in columnToTransform}\n",
    "ss_dict = {col: StandardScaler() for col in numericColumntoTransform}\n",
    "\n",
    "\n",
    "def encodeAndScale(dataToTransform, learning):\n",
    "    if learning:\n",
    "        for col in columnToTransform:\n",
    "            dataToTransform[col] = le_dict[col].fit_transform(\n",
    "                dataToTransform[col])\n",
    "    else:\n",
    "        for col in columnToTransform:\n",
    "            dataToTransform[col] = le_dict[col].transform(dataToTransform[col])\n",
    "\n",
    "    for colKey in numericColumntoTransform:\n",
    "        if learning:\n",
    "            dataToTransform[colKey] = ss_dict[colKey].fit_transform(\n",
    "                np.array(dataToTransform[colKey]).reshape(-1, 1))\n",
    "        else:\n",
    "            dataToTransform[colKey] = ss_dict[colKey].transform(\n",
    "                np.array(dataToTransform[colKey]).reshape(-1, 1))\n",
    "\n",
    "    return dataToTransform\n"
   ]
  },
  {
   "cell_type": "markdown",
   "id": "76f35668",
   "metadata": {
    "id": "aib-oKe-PFDh",
    "papermill": {
     "duration": 0.038035,
     "end_time": "2022-01-17T21:40:47.483245",
     "exception": false,
     "start_time": "2022-01-17T21:40:47.445210",
     "status": "completed"
    },
    "tags": []
   },
   "source": [
    "#### `TotalCharges` didn't show up, it means there might be some trash in this column (other than NaN, like empty strings)"
   ]
  },
  {
   "cell_type": "code",
   "execution_count": 35,
   "id": "f7ed0bcb",
   "metadata": {
    "execution": {
     "iopub.execute_input": "2022-01-17T21:40:47.568997Z",
     "iopub.status.busy": "2022-01-17T21:40:47.568206Z",
     "iopub.status.idle": "2022-01-17T21:40:47.573274Z",
     "shell.execute_reply": "2022-01-17T21:40:47.573886Z",
     "shell.execute_reply.started": "2022-01-17T21:30:49.254441Z"
    },
    "id": "kPT_UyChPFDk",
    "papermill": {
     "duration": 0.046866,
     "end_time": "2022-01-17T21:40:47.574085",
     "exception": false,
     "start_time": "2022-01-17T21:40:47.527219",
     "status": "completed"
    },
    "tags": []
   },
   "outputs": [],
   "source": [
    "def handleTotalCharges(dataToTransform):\n",
    "    dataToTransform['TotalCharges'] = pd.to_numeric(\n",
    "        train['TotalCharges'], downcast=\"float\", errors='coerce').fillna(train['MonthlyCharges']*train['tenure'])\n",
    "    return dataToTransform\n"
   ]
  },
  {
   "cell_type": "markdown",
   "id": "5780a3ac",
   "metadata": {
    "id": "Yl-wQ8lrSh8C",
    "papermill": {
     "duration": 0.038654,
     "end_time": "2022-01-17T21:40:47.652113",
     "exception": false,
     "start_time": "2022-01-17T21:40:47.613459",
     "status": "completed"
    },
    "tags": []
   },
   "source": [
    "### Conversion of data types to the minimum necessary"
   ]
  },
  {
   "cell_type": "code",
   "execution_count": 36,
   "id": "56aea2eb",
   "metadata": {
    "execution": {
     "iopub.execute_input": "2022-01-17T21:40:47.733590Z",
     "iopub.status.busy": "2022-01-17T21:40:47.732852Z",
     "iopub.status.idle": "2022-01-17T21:40:47.740580Z",
     "shell.execute_reply": "2022-01-17T21:40:47.739895Z",
     "shell.execute_reply.started": "2022-01-17T21:30:49.267698Z"
    },
    "id": "_HGP8RM6Sh8C",
    "papermill": {
     "duration": 0.050346,
     "end_time": "2022-01-17T21:40:47.740748",
     "exception": false,
     "start_time": "2022-01-17T21:40:47.690402",
     "status": "completed"
    },
    "tags": []
   },
   "outputs": [],
   "source": [
    "def lowerTypes(dataToTransform):\n",
    "    columnDoubleToFloat = ['tenure', 'MonthlyCharges', 'TotalCharges']\n",
    "    for colKey in columnDoubleToFloat:\n",
    "        dataToTransform[colKey] = dataToTransform[colKey].astype('float32')\n",
    "\n",
    "    for column in dataToTransform:\n",
    "        uniqueValues = dataToTransform[column].unique()\n",
    "        uniqueCount = len(uniqueValues)\n",
    "        if(uniqueCount > 0 and uniqueCount < 6):\n",
    "            dataToTransform[column] = dataToTransform[column].astype('int8')\n",
    "    return dataToTransform\n"
   ]
  },
  {
   "cell_type": "markdown",
   "id": "5fc8fe32",
   "metadata": {
    "id": "wyH0lptZDR7m",
    "papermill": {
     "duration": 0.039637,
     "end_time": "2022-01-17T21:40:47.819804",
     "exception": false,
     "start_time": "2022-01-17T21:40:47.780167",
     "status": "completed"
    },
    "tags": []
   },
   "source": [
    "### Processing the dataset before training the model\n",
    "#### We drop `customerID` and `gender` feature from DataFrame, beacuse they have low correlation with `Churn`. We use previously defined functions for preprocessing."
   ]
  },
  {
   "cell_type": "code",
   "execution_count": 37,
   "id": "872536dc",
   "metadata": {
    "execution": {
     "iopub.execute_input": "2022-01-17T21:40:47.904635Z",
     "iopub.status.busy": "2022-01-17T21:40:47.903854Z",
     "iopub.status.idle": "2022-01-17T21:40:47.906871Z",
     "shell.execute_reply": "2022-01-17T21:40:47.906330Z",
     "shell.execute_reply.started": "2022-01-17T21:30:49.284500Z"
    },
    "id": "QLsqbNwHDQav",
    "papermill": {
     "duration": 0.04809,
     "end_time": "2022-01-17T21:40:47.907034",
     "exception": false,
     "start_time": "2022-01-17T21:40:47.858944",
     "status": "completed"
    },
    "tags": []
   },
   "outputs": [],
   "source": [
    "def preprocess(dataToTransform, learning):\n",
    "    dataToTransform = handleTotalCharges(dataToTransform)\n",
    "    dataToTransform = makeOnlyYesNo(dataToTransform)\n",
    "    dataToTransform = encodeAndScale(dataToTransform, learning)\n",
    "    dataToTransform = lowerTypes(dataToTransform)\n",
    "    return dataToTransform\n"
   ]
  },
  {
   "cell_type": "markdown",
   "id": "8b43f701",
   "metadata": {
    "id": "PxIhm6qJPFDU",
    "papermill": {
     "duration": 0.040316,
     "end_time": "2022-01-17T21:40:47.985950",
     "exception": false,
     "start_time": "2022-01-17T21:40:47.945634",
     "status": "completed"
    },
    "tags": []
   },
   "source": [
    "### Preprocess training data."
   ]
  },
  {
   "cell_type": "code",
   "execution_count": 38,
   "id": "ee6d449a",
   "metadata": {
    "_cell_guid": "79c7e3d0-c299-4dcb-8224-4455121ee9b0",
    "_uuid": "d629ff2d2480ee46fbb7e2d37f6b5fab8052498a",
    "execution": {
     "iopub.execute_input": "2022-01-17T21:40:48.077041Z",
     "iopub.status.busy": "2022-01-17T21:40:48.075882Z",
     "iopub.status.idle": "2022-01-17T21:40:48.189217Z",
     "shell.execute_reply": "2022-01-17T21:40:48.189799Z",
     "shell.execute_reply.started": "2022-01-17T21:30:49.300477Z"
    },
    "id": "Y2Nnmrz2PFDX",
    "papermill": {
     "duration": 0.163546,
     "end_time": "2022-01-17T21:40:48.190026",
     "exception": false,
     "start_time": "2022-01-17T21:40:48.026480",
     "status": "completed"
    },
    "tags": []
   },
   "outputs": [
    {
     "data": {
      "text/html": [
       "<div>\n",
       "<style scoped>\n",
       "    .dataframe tbody tr th:only-of-type {\n",
       "        vertical-align: middle;\n",
       "    }\n",
       "\n",
       "    .dataframe tbody tr th {\n",
       "        vertical-align: top;\n",
       "    }\n",
       "\n",
       "    .dataframe thead th {\n",
       "        text-align: right;\n",
       "    }\n",
       "</style>\n",
       "<table border=\"1\" class=\"dataframe\">\n",
       "  <thead>\n",
       "    <tr style=\"text-align: right;\">\n",
       "      <th></th>\n",
       "      <th>customerID</th>\n",
       "      <th>gender</th>\n",
       "      <th>SeniorCitizen</th>\n",
       "      <th>Partner</th>\n",
       "      <th>Dependents</th>\n",
       "      <th>tenure</th>\n",
       "      <th>PhoneService</th>\n",
       "      <th>MultipleLines</th>\n",
       "      <th>InternetService</th>\n",
       "      <th>OnlineSecurity</th>\n",
       "      <th>...</th>\n",
       "      <th>DeviceProtection</th>\n",
       "      <th>TechSupport</th>\n",
       "      <th>StreamingTV</th>\n",
       "      <th>StreamingMovies</th>\n",
       "      <th>Contract</th>\n",
       "      <th>PaperlessBilling</th>\n",
       "      <th>PaymentMethod</th>\n",
       "      <th>MonthlyCharges</th>\n",
       "      <th>TotalCharges</th>\n",
       "      <th>Churn</th>\n",
       "    </tr>\n",
       "  </thead>\n",
       "  <tbody>\n",
       "    <tr>\n",
       "      <th>0</th>\n",
       "      <td>9763-PDTKK</td>\n",
       "      <td>0</td>\n",
       "      <td>0</td>\n",
       "      <td>0</td>\n",
       "      <td>0</td>\n",
       "      <td>-1.145235</td>\n",
       "      <td>1</td>\n",
       "      <td>0</td>\n",
       "      <td>1</td>\n",
       "      <td>1</td>\n",
       "      <td>...</td>\n",
       "      <td>1</td>\n",
       "      <td>1</td>\n",
       "      <td>0</td>\n",
       "      <td>1</td>\n",
       "      <td>0</td>\n",
       "      <td>1</td>\n",
       "      <td>0</td>\n",
       "      <td>0.982040</td>\n",
       "      <td>-0.830938</td>\n",
       "      <td>1</td>\n",
       "    </tr>\n",
       "    <tr>\n",
       "      <th>1</th>\n",
       "      <td>1116-FRYVH</td>\n",
       "      <td>0</td>\n",
       "      <td>0</td>\n",
       "      <td>1</td>\n",
       "      <td>1</td>\n",
       "      <td>0.642149</td>\n",
       "      <td>0</td>\n",
       "      <td>0</td>\n",
       "      <td>0</td>\n",
       "      <td>1</td>\n",
       "      <td>...</td>\n",
       "      <td>0</td>\n",
       "      <td>1</td>\n",
       "      <td>0</td>\n",
       "      <td>0</td>\n",
       "      <td>2</td>\n",
       "      <td>0</td>\n",
       "      <td>3</td>\n",
       "      <td>-0.852216</td>\n",
       "      <td>-0.127695</td>\n",
       "      <td>0</td>\n",
       "    </tr>\n",
       "    <tr>\n",
       "      <th>2</th>\n",
       "      <td>9102-IAYHT</td>\n",
       "      <td>0</td>\n",
       "      <td>0</td>\n",
       "      <td>1</td>\n",
       "      <td>1</td>\n",
       "      <td>-0.617144</td>\n",
       "      <td>1</td>\n",
       "      <td>1</td>\n",
       "      <td>1</td>\n",
       "      <td>0</td>\n",
       "      <td>...</td>\n",
       "      <td>0</td>\n",
       "      <td>0</td>\n",
       "      <td>0</td>\n",
       "      <td>1</td>\n",
       "      <td>0</td>\n",
       "      <td>1</td>\n",
       "      <td>2</td>\n",
       "      <td>0.683556</td>\n",
       "      <td>-0.360592</td>\n",
       "      <td>1</td>\n",
       "    </tr>\n",
       "    <tr>\n",
       "      <th>3</th>\n",
       "      <td>2921-XWDJH</td>\n",
       "      <td>0</td>\n",
       "      <td>1</td>\n",
       "      <td>1</td>\n",
       "      <td>0</td>\n",
       "      <td>0.235926</td>\n",
       "      <td>1</td>\n",
       "      <td>0</td>\n",
       "      <td>1</td>\n",
       "      <td>1</td>\n",
       "      <td>...</td>\n",
       "      <td>0</td>\n",
       "      <td>0</td>\n",
       "      <td>0</td>\n",
       "      <td>1</td>\n",
       "      <td>0</td>\n",
       "      <td>1</td>\n",
       "      <td>2</td>\n",
       "      <td>0.616856</td>\n",
       "      <td>0.388651</td>\n",
       "      <td>0</td>\n",
       "    </tr>\n",
       "    <tr>\n",
       "      <th>4</th>\n",
       "      <td>2026-TGDHM</td>\n",
       "      <td>0</td>\n",
       "      <td>0</td>\n",
       "      <td>0</td>\n",
       "      <td>0</td>\n",
       "      <td>-1.023368</td>\n",
       "      <td>1</td>\n",
       "      <td>0</td>\n",
       "      <td>1</td>\n",
       "      <td>0</td>\n",
       "      <td>...</td>\n",
       "      <td>0</td>\n",
       "      <td>0</td>\n",
       "      <td>0</td>\n",
       "      <td>1</td>\n",
       "      <td>0</td>\n",
       "      <td>1</td>\n",
       "      <td>2</td>\n",
       "      <td>0.478453</td>\n",
       "      <td>-0.770864</td>\n",
       "      <td>1</td>\n",
       "    </tr>\n",
       "    <tr>\n",
       "      <th>...</th>\n",
       "      <td>...</td>\n",
       "      <td>...</td>\n",
       "      <td>...</td>\n",
       "      <td>...</td>\n",
       "      <td>...</td>\n",
       "      <td>...</td>\n",
       "      <td>...</td>\n",
       "      <td>...</td>\n",
       "      <td>...</td>\n",
       "      <td>...</td>\n",
       "      <td>...</td>\n",
       "      <td>...</td>\n",
       "      <td>...</td>\n",
       "      <td>...</td>\n",
       "      <td>...</td>\n",
       "      <td>...</td>\n",
       "      <td>...</td>\n",
       "      <td>...</td>\n",
       "      <td>...</td>\n",
       "      <td>...</td>\n",
       "      <td>...</td>\n",
       "    </tr>\n",
       "    <tr>\n",
       "      <th>5629</th>\n",
       "      <td>0248-IPDFW</td>\n",
       "      <td>0</td>\n",
       "      <td>0</td>\n",
       "      <td>0</td>\n",
       "      <td>0</td>\n",
       "      <td>-1.267102</td>\n",
       "      <td>1</td>\n",
       "      <td>1</td>\n",
       "      <td>0</td>\n",
       "      <td>0</td>\n",
       "      <td>...</td>\n",
       "      <td>0</td>\n",
       "      <td>0</td>\n",
       "      <td>0</td>\n",
       "      <td>0</td>\n",
       "      <td>0</td>\n",
       "      <td>1</td>\n",
       "      <td>2</td>\n",
       "      <td>-0.495370</td>\n",
       "      <td>-0.979899</td>\n",
       "      <td>0</td>\n",
       "    </tr>\n",
       "    <tr>\n",
       "      <th>5630</th>\n",
       "      <td>2272-WUSPA</td>\n",
       "      <td>0</td>\n",
       "      <td>0</td>\n",
       "      <td>1</td>\n",
       "      <td>0</td>\n",
       "      <td>1.617086</td>\n",
       "      <td>1</td>\n",
       "      <td>1</td>\n",
       "      <td>1</td>\n",
       "      <td>1</td>\n",
       "      <td>...</td>\n",
       "      <td>1</td>\n",
       "      <td>0</td>\n",
       "      <td>1</td>\n",
       "      <td>1</td>\n",
       "      <td>2</td>\n",
       "      <td>1</td>\n",
       "      <td>2</td>\n",
       "      <td>1.527314</td>\n",
       "      <td>2.423349</td>\n",
       "      <td>0</td>\n",
       "    </tr>\n",
       "    <tr>\n",
       "      <th>5631</th>\n",
       "      <td>5274-XHAKY</td>\n",
       "      <td>0</td>\n",
       "      <td>0</td>\n",
       "      <td>1</td>\n",
       "      <td>1</td>\n",
       "      <td>0.357793</td>\n",
       "      <td>1</td>\n",
       "      <td>1</td>\n",
       "      <td>1</td>\n",
       "      <td>1</td>\n",
       "      <td>...</td>\n",
       "      <td>0</td>\n",
       "      <td>0</td>\n",
       "      <td>1</td>\n",
       "      <td>0</td>\n",
       "      <td>0</td>\n",
       "      <td>1</td>\n",
       "      <td>0</td>\n",
       "      <td>0.978705</td>\n",
       "      <td>0.718499</td>\n",
       "      <td>0</td>\n",
       "    </tr>\n",
       "    <tr>\n",
       "      <th>5632</th>\n",
       "      <td>3451-VAWLI</td>\n",
       "      <td>0</td>\n",
       "      <td>0</td>\n",
       "      <td>1</td>\n",
       "      <td>1</td>\n",
       "      <td>0.114058</td>\n",
       "      <td>1</td>\n",
       "      <td>0</td>\n",
       "      <td>2</td>\n",
       "      <td>0</td>\n",
       "      <td>...</td>\n",
       "      <td>0</td>\n",
       "      <td>0</td>\n",
       "      <td>0</td>\n",
       "      <td>0</td>\n",
       "      <td>2</td>\n",
       "      <td>0</td>\n",
       "      <td>1</td>\n",
       "      <td>-1.509213</td>\n",
       "      <td>-0.679282</td>\n",
       "      <td>0</td>\n",
       "    </tr>\n",
       "    <tr>\n",
       "      <th>5633</th>\n",
       "      <td>8270-RKSAP</td>\n",
       "      <td>1</td>\n",
       "      <td>0</td>\n",
       "      <td>0</td>\n",
       "      <td>0</td>\n",
       "      <td>-0.942123</td>\n",
       "      <td>1</td>\n",
       "      <td>0</td>\n",
       "      <td>1</td>\n",
       "      <td>0</td>\n",
       "      <td>...</td>\n",
       "      <td>0</td>\n",
       "      <td>0</td>\n",
       "      <td>0</td>\n",
       "      <td>0</td>\n",
       "      <td>0</td>\n",
       "      <td>1</td>\n",
       "      <td>2</td>\n",
       "      <td>0.184972</td>\n",
       "      <td>-0.737833</td>\n",
       "      <td>0</td>\n",
       "    </tr>\n",
       "  </tbody>\n",
       "</table>\n",
       "<p>5634 rows × 21 columns</p>\n",
       "</div>"
      ],
      "text/plain": [
       "      customerID  gender  SeniorCitizen  Partner  Dependents    tenure  \\\n",
       "0     9763-PDTKK       0              0        0           0 -1.145235   \n",
       "1     1116-FRYVH       0              0        1           1  0.642149   \n",
       "2     9102-IAYHT       0              0        1           1 -0.617144   \n",
       "3     2921-XWDJH       0              1        1           0  0.235926   \n",
       "4     2026-TGDHM       0              0        0           0 -1.023368   \n",
       "...          ...     ...            ...      ...         ...       ...   \n",
       "5629  0248-IPDFW       0              0        0           0 -1.267102   \n",
       "5630  2272-WUSPA       0              0        1           0  1.617086   \n",
       "5631  5274-XHAKY       0              0        1           1  0.357793   \n",
       "5632  3451-VAWLI       0              0        1           1  0.114058   \n",
       "5633  8270-RKSAP       1              0        0           0 -0.942123   \n",
       "\n",
       "      PhoneService  MultipleLines  InternetService  OnlineSecurity  ...  \\\n",
       "0                1              0                1               1  ...   \n",
       "1                0              0                0               1  ...   \n",
       "2                1              1                1               0  ...   \n",
       "3                1              0                1               1  ...   \n",
       "4                1              0                1               0  ...   \n",
       "...            ...            ...              ...             ...  ...   \n",
       "5629             1              1                0               0  ...   \n",
       "5630             1              1                1               1  ...   \n",
       "5631             1              1                1               1  ...   \n",
       "5632             1              0                2               0  ...   \n",
       "5633             1              0                1               0  ...   \n",
       "\n",
       "      DeviceProtection  TechSupport  StreamingTV  StreamingMovies  Contract  \\\n",
       "0                    1            1            0                1         0   \n",
       "1                    0            1            0                0         2   \n",
       "2                    0            0            0                1         0   \n",
       "3                    0            0            0                1         0   \n",
       "4                    0            0            0                1         0   \n",
       "...                ...          ...          ...              ...       ...   \n",
       "5629                 0            0            0                0         0   \n",
       "5630                 1            0            1                1         2   \n",
       "5631                 0            0            1                0         0   \n",
       "5632                 0            0            0                0         2   \n",
       "5633                 0            0            0                0         0   \n",
       "\n",
       "      PaperlessBilling  PaymentMethod  MonthlyCharges  TotalCharges  Churn  \n",
       "0                    1              0        0.982040     -0.830938      1  \n",
       "1                    0              3       -0.852216     -0.127695      0  \n",
       "2                    1              2        0.683556     -0.360592      1  \n",
       "3                    1              2        0.616856      0.388651      0  \n",
       "4                    1              2        0.478453     -0.770864      1  \n",
       "...                ...            ...             ...           ...    ...  \n",
       "5629                 1              2       -0.495370     -0.979899      0  \n",
       "5630                 1              2        1.527314      2.423349      0  \n",
       "5631                 1              0        0.978705      0.718499      0  \n",
       "5632                 0              1       -1.509213     -0.679282      0  \n",
       "5633                 1              2        0.184972     -0.737833      0  \n",
       "\n",
       "[5634 rows x 21 columns]"
      ]
     },
     "metadata": {},
     "output_type": "display_data"
    }
   ],
   "source": [
    "labels = train['Churn']\n",
    "train = preprocess(train, True)\n",
    "display(train)\n"
   ]
  },
  {
   "cell_type": "markdown",
   "id": "e4e93444",
   "metadata": {
    "id": "xYzsVX21PFDc",
    "papermill": {
     "duration": 0.047639,
     "end_time": "2022-01-17T21:40:48.282094",
     "exception": false,
     "start_time": "2022-01-17T21:40:48.234455",
     "status": "completed"
    },
    "tags": []
   },
   "source": [
    "### Heatmap\n",
    "#### Heatmap provide us information on how much the individual features are interpedent. Based on heatmap, we droped the feature that are high corelated with each other, beacuse, such data do not provide additional information and can increase the model load. For example, we drop `TotalCharges` because it's has high corellation with `MonthlyCharges`."
   ]
  },
  {
   "cell_type": "code",
   "execution_count": 39,
   "id": "b5d3cba8",
   "metadata": {
    "execution": {
     "iopub.execute_input": "2022-01-17T21:40:48.370987Z",
     "iopub.status.busy": "2022-01-17T21:40:48.370237Z",
     "iopub.status.idle": "2022-01-17T21:40:51.265700Z",
     "shell.execute_reply": "2022-01-17T21:40:51.266249Z",
     "shell.execute_reply.started": "2022-01-17T21:30:49.408211Z"
    },
    "id": "ObQ1AkeKPFDf",
    "papermill": {
     "duration": 2.938931,
     "end_time": "2022-01-17T21:40:51.266450",
     "exception": false,
     "start_time": "2022-01-17T21:40:48.327519",
     "status": "completed"
    },
    "tags": []
   },
   "outputs": [
    {
     "data": {
      "text/plain": [
       "<AxesSubplot:>"
      ]
     },
     "execution_count": 39,
     "metadata": {},
     "output_type": "execute_result"
    },
    {
     "data": {
      "image/png": "[encoded data removed]",
      "text/plain": [
       "<Figure size 1080x576 with 2 Axes>"
      ]
     },
     "metadata": {
      "needs_background": "light"
     },
     "output_type": "display_data"
    }
   ],
   "source": [
    "import matplotlib.pyplot as plt\n",
    "import seaborn as sns\n",
    "\n",
    "f, ax = plt.subplots(figsize=(15, 8))\n",
    "sns.heatmap(abs(train.corr()), annot=True, linewidths=0.5, fmt='.2f', ax=ax)"
   ]
  },
  {
   "cell_type": "markdown",
   "id": "5cd3b263",
   "metadata": {
    "papermill": {
     "duration": 0.045092,
     "end_time": "2022-01-17T21:40:51.357460",
     "exception": false,
     "start_time": "2022-01-17T21:40:51.312368",
     "status": "completed"
    },
    "tags": []
   },
   "source": [
    "### Drop unnecessary features"
   ]
  },
  {
   "cell_type": "code",
   "execution_count": 40,
   "id": "bfe3fc39",
   "metadata": {
    "execution": {
     "iopub.execute_input": "2022-01-17T21:40:51.462547Z",
     "iopub.status.busy": "2022-01-17T21:40:51.461787Z",
     "iopub.status.idle": "2022-01-17T21:40:51.468809Z",
     "shell.execute_reply": "2022-01-17T21:40:51.469368Z",
     "shell.execute_reply.started": "2022-01-17T21:30:51.870926Z"
    },
    "papermill": {
     "duration": 0.065925,
     "end_time": "2022-01-17T21:40:51.469593",
     "exception": false,
     "start_time": "2022-01-17T21:40:51.403668",
     "status": "completed"
    },
    "tags": []
   },
   "outputs": [],
   "source": [
    "def dropUnnecessaryFeatures(dataToTransform, isLearning):\n",
    "    dataToTransform = dataToTransform.drop(['gender'], axis=1)\n",
    "    dataToTransform = dataToTransform.drop(['customerID'], axis=1)\n",
    "    if isLearning:\n",
    "        dataToTransform = dataToTransform.drop(['Churn'], axis=1)\n",
    "    return dataToTransform\n",
    "\n",
    "\n",
    "train = dropUnnecessaryFeatures(train, True)\n"
   ]
  },
  {
   "cell_type": "markdown",
   "id": "a4683d27",
   "metadata": {
    "id": "6DoONLfWmt3P",
    "papermill": {
     "duration": 0.046236,
     "end_time": "2022-01-17T21:40:51.562625",
     "exception": false,
     "start_time": "2022-01-17T21:40:51.516389",
     "status": "completed"
    },
    "tags": []
   },
   "source": [
    "### Control which one use"
   ]
  },
  {
   "cell_type": "code",
   "execution_count": 41,
   "id": "3afb3622",
   "metadata": {
    "execution": {
     "iopub.execute_input": "2022-01-17T21:40:51.660108Z",
     "iopub.status.busy": "2022-01-17T21:40:51.659246Z",
     "iopub.status.idle": "2022-01-17T21:40:51.663672Z",
     "shell.execute_reply": "2022-01-17T21:40:51.664251Z",
     "shell.execute_reply.started": "2022-01-17T21:30:51.884755Z"
    },
    "id": "LGF-AB95mvv_",
    "papermill": {
     "duration": 0.055726,
     "end_time": "2022-01-17T21:40:51.664477",
     "exception": false,
     "start_time": "2022-01-17T21:40:51.608751",
     "status": "completed"
    },
    "tags": []
   },
   "outputs": [],
   "source": [
    "import tensorflow as tf\n",
    "\n",
    "\n",
    "tf.config.list_physical_devices(\"GPU\")\n",
    "\n",
    "isGridSearch = False\n",
    "isLearningData = True\n",
    "isNeuralNetwork = True\n",
    "isRFC = False\n",
    "isMPLC = False\n"
   ]
  },
  {
   "cell_type": "markdown",
   "id": "8981d828",
   "metadata": {
    "id": "_2H__CLjPFDp",
    "papermill": {
     "duration": 0.044851,
     "end_time": "2022-01-17T21:40:51.755457",
     "exception": false,
     "start_time": "2022-01-17T21:40:51.710606",
     "status": "completed"
    },
    "tags": []
   },
   "source": [
    "### Selecting features for a neural network model\n",
    "\n",
    "\n"
   ]
  },
  {
   "cell_type": "markdown",
   "id": "3083ed60",
   "metadata": {
    "papermill": {
     "duration": 0.045047,
     "end_time": "2022-01-17T21:40:51.846591",
     "exception": false,
     "start_time": "2022-01-17T21:40:51.801544",
     "status": "completed"
    },
    "tags": []
   },
   "source": [
    "Neural networks perform better with properly selected features"
   ]
  },
  {
   "cell_type": "code",
   "execution_count": 42,
   "id": "0c9fb7a8",
   "metadata": {
    "execution": {
     "iopub.execute_input": "2022-01-17T21:40:51.944241Z",
     "iopub.status.busy": "2022-01-17T21:40:51.943192Z",
     "iopub.status.idle": "2022-01-17T21:40:51.949685Z",
     "shell.execute_reply": "2022-01-17T21:40:51.950378Z",
     "shell.execute_reply.started": "2022-01-17T21:30:51.894524Z"
    },
    "id": "Ig0LKt6mPFDs",
    "papermill": {
     "duration": 0.057228,
     "end_time": "2022-01-17T21:40:51.950574",
     "exception": false,
     "start_time": "2022-01-17T21:40:51.893346",
     "status": "completed"
    },
    "tags": []
   },
   "outputs": [],
   "source": [
    "numeric_columns = ['Contract', 'tenure', 'Dependents', 'MonthlyCharges', 'InternetService', 'PaymentMethod',\n",
    "                   'TechSupport', 'PhoneService', 'PaperlessBilling', 'OnlineSecurity', 'SeniorCitizen', 'MultipleLines']\n",
    "\n",
    "if isNeuralNetwork or isMPLC:\n",
    "    numeric_data = train[numeric_columns]\n",
    "else:\n",
    "    numeric_data = train\n"
   ]
  },
  {
   "cell_type": "markdown",
   "id": "0edae62c",
   "metadata": {
    "id": "-h-eN2QiPFDv",
    "papermill": {
     "duration": 0.046301,
     "end_time": "2022-01-17T21:40:52.043089",
     "exception": false,
     "start_time": "2022-01-17T21:40:51.996788",
     "status": "completed"
    },
    "tags": []
   },
   "source": [
    "#### Split into train and test datasets"
   ]
  },
  {
   "cell_type": "code",
   "execution_count": 43,
   "id": "5880688d",
   "metadata": {
    "execution": {
     "iopub.execute_input": "2022-01-17T21:40:52.140839Z",
     "iopub.status.busy": "2022-01-17T21:40:52.139885Z",
     "iopub.status.idle": "2022-01-17T21:40:52.208880Z",
     "shell.execute_reply": "2022-01-17T21:40:52.209452Z",
     "shell.execute_reply.started": "2022-01-17T21:30:51.908721Z"
    },
    "id": "swaaz7ZXPFDw",
    "papermill": {
     "duration": 0.119585,
     "end_time": "2022-01-17T21:40:52.209665",
     "exception": false,
     "start_time": "2022-01-17T21:40:52.090080",
     "status": "completed"
    },
    "tags": []
   },
   "outputs": [],
   "source": [
    "from sklearn.model_selection import train_test_split\n",
    "\n",
    "X_train, X_test, y_train, y_test = train_test_split(\n",
    "    numeric_data, labels, test_size=0.33, random_state=42)"
   ]
  },
  {
   "cell_type": "markdown",
   "id": "bf477adf",
   "metadata": {
    "id": "ZNcWfPYTPFDy",
    "papermill": {
     "duration": 0.044825,
     "end_time": "2022-01-17T21:40:52.300428",
     "exception": false,
     "start_time": "2022-01-17T21:40:52.255603",
     "status": "completed"
    },
    "tags": []
   },
   "source": [
    "### Models\n",
    "#### For predictions, we used one neural network model create by us (it consists 3 layers of neurons), one classical neural network - Multilayer Perceptrons (MLP) and Random Forset Classifier. In our assumptions, in addition to the result, we wanted to check which model is best able to cope with the task, that is, it will provide us with the best results. We split our code in 3 different cells containg different model. "
   ]
  },
  {
   "cell_type": "code",
   "execution_count": 44,
   "id": "e5252ead",
   "metadata": {
    "execution": {
     "iopub.execute_input": "2022-01-17T21:40:52.401980Z",
     "iopub.status.busy": "2022-01-17T21:40:52.401179Z",
     "iopub.status.idle": "2022-01-17T21:40:59.367223Z",
     "shell.execute_reply": "2022-01-17T21:40:59.366589Z",
     "shell.execute_reply.started": "2022-01-17T21:30:51.928915Z"
    },
    "id": "8fcpaA7SbiyJ",
    "papermill": {
     "duration": 7.019101,
     "end_time": "2022-01-17T21:40:59.367428",
     "exception": false,
     "start_time": "2022-01-17T21:40:52.348327",
     "status": "completed"
    },
    "tags": []
   },
   "outputs": [],
   "source": [
    "from sklearn.metrics import roc_auc_score, accuracy_score\n",
    "from tensorflow.keras.models import Sequential\n",
    "from tensorflow.keras.layers import Dense\n",
    "from sklearn.model_selection import GridSearchCV\n",
    "from keras.wrappers.scikit_learn import KerasClassifier\n",
    "from sklearn.ensemble import RandomForestClassifier\n",
    "from sklearn.neural_network import MLPClassifier\n",
    "from sklearn.pipeline import Pipeline\n"
   ]
  },
  {
   "cell_type": "markdown",
   "id": "24de4b28",
   "metadata": {
    "papermill": {
     "duration": 0.049069,
     "end_time": "2022-01-17T21:40:59.463035",
     "exception": false,
     "start_time": "2022-01-17T21:40:59.413966",
     "status": "completed"
    },
    "tags": []
   },
   "source": [
    "### Neural Network\n"
   ]
  },
  {
   "cell_type": "code",
   "execution_count": 45,
   "id": "688faa67",
   "metadata": {
    "execution": {
     "iopub.execute_input": "2022-01-17T21:40:59.564897Z",
     "iopub.status.busy": "2022-01-17T21:40:59.564047Z",
     "iopub.status.idle": "2022-01-17T21:41:07.586556Z",
     "shell.execute_reply": "2022-01-17T21:41:07.587065Z",
     "shell.execute_reply.started": "2022-01-17T21:30:51.941074Z"
    },
    "id": "2oK3T7_abkjA",
    "papermill": {
     "duration": 8.07822,
     "end_time": "2022-01-17T21:41:07.587255",
     "exception": false,
     "start_time": "2022-01-17T21:40:59.509035",
     "status": "completed"
    },
    "tags": []
   },
   "outputs": [
    {
     "name": "stdout",
     "output_type": "stream",
     "text": [
      "Epoch 1/11\n",
      "118/118 [==============================] - 1s 3ms/step - loss: 0.4820 - auc: 0.7793 - accuracy: 0.7647 - val_loss: 0.4375 - val_auc: 0.8250 - val_accuracy: 0.7898\n",
      "Epoch 2/11\n",
      "118/118 [==============================] - 0s 2ms/step - loss: 0.4338 - auc: 0.8342 - accuracy: 0.7973 - val_loss: 0.4595 - val_auc: 0.8279 - val_accuracy: 0.7812\n",
      "Epoch 3/11\n",
      "118/118 [==============================] - 0s 2ms/step - loss: 0.4337 - auc: 0.8339 - accuracy: 0.7891 - val_loss: 0.4362 - val_auc: 0.8285 - val_accuracy: 0.7919\n",
      "Epoch 4/11\n",
      "118/118 [==============================] - 0s 2ms/step - loss: 0.4257 - auc: 0.8418 - accuracy: 0.7997 - val_loss: 0.4311 - val_auc: 0.8282 - val_accuracy: 0.7914\n",
      "Epoch 5/11\n",
      "118/118 [==============================] - 0s 2ms/step - loss: 0.4317 - auc: 0.8365 - accuracy: 0.7931 - val_loss: 0.4342 - val_auc: 0.8296 - val_accuracy: 0.7930\n",
      "Epoch 6/11\n",
      "118/118 [==============================] - 0s 2ms/step - loss: 0.4278 - auc: 0.8395 - accuracy: 0.7984 - val_loss: 0.4321 - val_auc: 0.8293 - val_accuracy: 0.7925\n",
      "Epoch 7/11\n",
      "118/118 [==============================] - 0s 2ms/step - loss: 0.4210 - auc: 0.8454 - accuracy: 0.8047 - val_loss: 0.4347 - val_auc: 0.8295 - val_accuracy: 0.7914\n",
      "Epoch 8/11\n",
      "118/118 [==============================] - 0s 2ms/step - loss: 0.4261 - auc: 0.8409 - accuracy: 0.8023 - val_loss: 0.4437 - val_auc: 0.8301 - val_accuracy: 0.7909\n",
      "Epoch 9/11\n",
      "118/118 [==============================] - 0s 2ms/step - loss: 0.4214 - auc: 0.8444 - accuracy: 0.7989 - val_loss: 0.4289 - val_auc: 0.8303 - val_accuracy: 0.7946\n",
      "Epoch 10/11\n",
      "118/118 [==============================] - 0s 2ms/step - loss: 0.4206 - auc: 0.8459 - accuracy: 0.8037 - val_loss: 0.4315 - val_auc: 0.8304 - val_accuracy: 0.7957\n",
      "Epoch 11/11\n",
      "118/118 [==============================] - 0s 2ms/step - loss: 0.4182 - auc: 0.8480 - accuracy: 0.8068 - val_loss: 0.4318 - val_auc: 0.8305 - val_accuracy: 0.7935\n"
     ]
    }
   ],
   "source": [
    "\n",
    "# Function to create model, required for KerasClassifier to GridSearchCV\n",
    "def create_model(optimizer='Adam', init_mode='glorot_uniform', activation='softplus'):\n",
    "    model = Sequential([\n",
    "        Dense(256, activation=activation, kernel_initializer=init_mode,\n",
    "              input_dim=X_train.shape[1]),\n",
    "        Dense(128, activation=activation, kernel_initializer=init_mode),\n",
    "        Dense(1, kernel_initializer=init_mode, activation='sigmoid')\n",
    "    ])\n",
    "\n",
    "    if(isGridSearch):\n",
    "        # Grid search have own metrics\n",
    "        model.compile(loss='binary_crossentropy', optimizer=optimizer)\n",
    "    else:\n",
    "        model.compile(loss='binary_crossentropy',\n",
    "                      optimizer=optimizer,  metrics=['AUC', 'accuracy'])\n",
    "    return model\n",
    "\n",
    "\n",
    "if(isNeuralNetwork):\n",
    "    model = create_model()\n",
    "\n",
    "    if(isGridSearch):\n",
    "        model = KerasClassifier(build_fn=create_model)\n",
    "        batch_size = [32]\n",
    "        epochs = [50]\n",
    "        optimizer = ['SGD', 'RMSprop', 'Adagrad',\n",
    "                     'Adadelta', 'Adam', 'Adamax', 'Nadam']\n",
    "        init_mode = ['uniform', 'lecun_uniform',\n",
    "                     'glorot_uniform', 'he_uniform']\n",
    "        activation = ['softmax', 'softplus', 'softsign',\n",
    "                      'relu', 'tanh', 'sigmoid', 'hard_sigmoid', 'linear']\n",
    "        learn_rate = [0.001, 0.01, 0.1, 0.2, 0.3]\n",
    "        beta_1 = [0.9, 0.85, 0.80, 0.75, 0.70]\n",
    "        momentum = [0.0, 0.2, 0.4, 0.6, 0.8, 0.9]\n",
    "        param_grid = dict(batch_size=batch_size, epochs=epochs,\n",
    "                          init_mode=init_mode, activation=activation, optimizer=optimizer)\n",
    "\n",
    "        grid_search = GridSearchCV(estimator=model, param_grid=param_grid, cv=3,\n",
    "                                   verbose=3, scoring='roc_auc', refit=True, return_train_score=True)\n",
    "        grid_search.fit(X_train, y_train)\n",
    "    else:\n",
    "        if(isLearningData):\n",
    "            history = model.fit(X_train, y_train, epochs=11,\n",
    "                                batch_size=32, validation_data=(X_test, y_test))\n",
    "        else:\n",
    "            history = model.fit(numeric_data, labels, epochs=11,\n",
    "                                batch_size=32)"
   ]
  },
  {
   "cell_type": "markdown",
   "id": "5e978b8d",
   "metadata": {
    "id": "BTnXT5ELd0Bm",
    "papermill": {
     "duration": 0.077864,
     "end_time": "2022-01-17T21:41:07.744275",
     "exception": false,
     "start_time": "2022-01-17T21:41:07.666411",
     "status": "completed"
    },
    "tags": []
   },
   "source": [
    "### Random Forest Classifier"
   ]
  },
  {
   "cell_type": "markdown",
   "id": "1eba0792",
   "metadata": {
    "papermill": {
     "duration": 0.078212,
     "end_time": "2022-01-17T21:41:07.901020",
     "exception": false,
     "start_time": "2022-01-17T21:41:07.822808",
     "status": "completed"
    },
    "tags": []
   },
   "source": [
    "Only the best parameters used for grid search are left, but we used many more. "
   ]
  },
  {
   "cell_type": "code",
   "execution_count": 46,
   "id": "2bc1059a",
   "metadata": {
    "execution": {
     "iopub.execute_input": "2022-01-17T21:41:08.062217Z",
     "iopub.status.busy": "2022-01-17T21:41:08.061150Z",
     "iopub.status.idle": "2022-01-17T21:41:08.072835Z",
     "shell.execute_reply": "2022-01-17T21:41:08.073361Z",
     "shell.execute_reply.started": "2022-01-17T21:30:58.215091Z"
    },
    "id": "sjP7K8rHe0oX",
    "papermill": {
     "duration": 0.094734,
     "end_time": "2022-01-17T21:41:08.073563",
     "exception": false,
     "start_time": "2022-01-17T21:41:07.978829",
     "status": "completed"
    },
    "tags": []
   },
   "outputs": [],
   "source": [
    "if(isRFC):\n",
    "    if(isGridSearch):\n",
    "        criterion = [\"entropy\"]\n",
    "        max_depth = [10]\n",
    "        min_samples_split = [2]\n",
    "        min_samples_leaf = [20]\n",
    "        min_weight_fraction_leaf = [0.0]\n",
    "        max_features = ['auto']\n",
    "        max_leaf_nodes = [120]\n",
    "        min_impurity_decrease = [0.0]\n",
    "        bootstrap = [True, False]\n",
    "        n_jobs = [-1]\n",
    "        random_state = [32]\n",
    "        class_weight = ['balanced']\n",
    "        ccp_alpha = [0.0005]\n",
    "        n_estimators = [400]\n",
    "        max_samples = [None]\n",
    "\n",
    "        param_grid = dict(criterion=criterion,\n",
    "                          max_depth=max_depth,\n",
    "                          min_samples_split=min_samples_split,\n",
    "                          min_samples_leaf=min_samples_leaf,\n",
    "                          min_weight_fraction_leaf=min_weight_fraction_leaf,\n",
    "                          max_features=max_features,\n",
    "                          max_leaf_nodes=max_leaf_nodes,\n",
    "                          min_impurity_decrease=min_impurity_decrease,\n",
    "                          bootstrap=bootstrap,\n",
    "                          n_jobs=n_jobs,\n",
    "                          random_state=random_state,\n",
    "                          class_weight=class_weight,\n",
    "                          ccp_alpha=ccp_alpha,\n",
    "                          n_estimators=n_estimators,\n",
    "                          max_samples=max_samples)\n",
    "\n",
    "        grid_search = GridSearchCV(estimator=RandomForestClassifier(),\n",
    "                                   param_grid=param_grid,\n",
    "                                   verbose=3,\n",
    "                                   scoring='roc_auc',\n",
    "                                   return_train_score=True,\n",
    "                                   cv=5)\n",
    "        grid_search.fit(numeric_data, labels)\n",
    "    else:\n",
    "        model = RandomForestClassifier(\n",
    "            criterion='entropy',\n",
    "            max_depth=10,\n",
    "            min_samples_split=2,\n",
    "            min_samples_leaf=20,\n",
    "            min_weight_fraction_leaf=0.0,\n",
    "            max_features='auto',\n",
    "            max_leaf_nodes=None,\n",
    "            min_impurity_decrease=0.0,\n",
    "            bootstrap=True,\n",
    "            n_jobs=-1,\n",
    "            random_state=32,\n",
    "            class_weight='balanced',\n",
    "            ccp_alpha=0.0002,\n",
    "            n_estimators=400)\n",
    "        model.fit(numeric_data, labels)\n"
   ]
  },
  {
   "cell_type": "markdown",
   "id": "6611154d",
   "metadata": {
    "id": "XpH0-6Kdk7dA",
    "papermill": {
     "duration": 0.077878,
     "end_time": "2022-01-17T21:41:08.230072",
     "exception": false,
     "start_time": "2022-01-17T21:41:08.152194",
     "status": "completed"
    },
    "tags": []
   },
   "source": [
    "### MLPC"
   ]
  },
  {
   "cell_type": "markdown",
   "id": "53be8e71",
   "metadata": {
    "papermill": {
     "duration": 0.077292,
     "end_time": "2022-01-17T21:41:08.385274",
     "exception": false,
     "start_time": "2022-01-17T21:41:08.307982",
     "status": "completed"
    },
    "tags": []
   },
   "source": [
    "Multi-layer Perceptron classifier."
   ]
  },
  {
   "cell_type": "code",
   "execution_count": 47,
   "id": "9991891f",
   "metadata": {
    "execution": {
     "iopub.execute_input": "2022-01-17T21:41:08.544266Z",
     "iopub.status.busy": "2022-01-17T21:41:08.543588Z",
     "iopub.status.idle": "2022-01-17T21:41:08.553612Z",
     "shell.execute_reply": "2022-01-17T21:41:08.554137Z",
     "shell.execute_reply.started": "2022-01-17T21:30:58.229736Z"
    },
    "id": "_BFvEsWoPFDz",
    "papermill": {
     "duration": 0.090993,
     "end_time": "2022-01-17T21:41:08.554338",
     "exception": false,
     "start_time": "2022-01-17T21:41:08.463345",
     "status": "completed"
    },
    "tags": []
   },
   "outputs": [],
   "source": [
    "if(isMPLC):\n",
    "    if(isGridSearch):\n",
    "        GRID = [\n",
    "            {'estimator': [MLPClassifier(random_state=32)],\n",
    "             'estimator__solver': ['sgd'],\n",
    "             'estimator__learning_rate_init': [0.0001],\n",
    "             'estimator__max_iter': [300],\n",
    "             'estimator__hidden_layer_sizes': [(1024, 512, 512, 256, 128)],\n",
    "             'estimator__activation': ['relu'],\n",
    "             'estimator__alpha': [0.0001],\n",
    "             'estimator__early_stopping': [False],\n",
    "             'estimator__batch_size': [128, 256],\n",
    "             'estimator__learning_rate': ['adaptive'],\n",
    "             'estimator__shuffle': [True]\n",
    "             }\n",
    "        ]\n",
    "\n",
    "        PIPELINE = Pipeline([('scaler', None), ('estimator', MLPClassifier())])\n",
    "\n",
    "        grid_search = GridSearchCV(estimator=PIPELINE, param_grid=GRID,\n",
    "                                   scoring='roc_auc',\n",
    "                                   n_jobs=-1, cv=3, refit=True, verbose=1,\n",
    "                                   return_train_score=False)\n",
    "\n",
    "        grid_search.fit(X_train, y_train)\n",
    "    else:\n",
    "        model = MLPClassifier(random_state=32, max_iter=300, solver='sgd', learning_rate_init=0.001, hidden_layer_sizes=(500, 400, 300, 200, 100),\n",
    "                              activation='relu', alpha=0.001, early_stopping=False)\n",
    "\n",
    "        if isLearningData:\n",
    "            history = model.fit(X_train, y_train)\n",
    "        else:\n",
    "            history = model.fit(numeric_data, labels)\n"
   ]
  },
  {
   "cell_type": "markdown",
   "id": "168f6c00",
   "metadata": {
    "id": "kK5cvoMqSh8H",
    "papermill": {
     "duration": 0.077303,
     "end_time": "2022-01-17T21:41:08.709468",
     "exception": false,
     "start_time": "2022-01-17T21:41:08.632165",
     "status": "completed"
    },
    "tags": []
   },
   "source": [
    "#### Results"
   ]
  },
  {
   "cell_type": "code",
   "execution_count": 48,
   "id": "2a11bba5",
   "metadata": {
    "execution": {
     "iopub.execute_input": "2022-01-17T21:41:08.872150Z",
     "iopub.status.busy": "2022-01-17T21:41:08.871339Z",
     "iopub.status.idle": "2022-01-17T21:41:09.695288Z",
     "shell.execute_reply": "2022-01-17T21:41:09.694708Z",
     "shell.execute_reply.started": "2022-01-17T21:30:58.247473Z"
    },
    "id": "9APwuVRhSh8I",
    "papermill": {
     "duration": 0.906602,
     "end_time": "2022-01-17T21:41:09.695482",
     "exception": false,
     "start_time": "2022-01-17T21:41:08.788880",
     "status": "completed"
    },
    "tags": []
   },
   "outputs": [
    {
     "name": "stdout",
     "output_type": "stream",
     "text": [
      "Train auc: 0.8514218954082065\n",
      "Test auc: 0.8308432547011226\n"
     ]
    }
   ],
   "source": [
    "isAnyModel = isNeuralNetwork or isRFC or isMPLC\n",
    "\n",
    "if isAnyModel:\n",
    "    if isGridSearch:\n",
    "        model = grid_search\n",
    "        \n",
    "    if isNeuralNetwork:\n",
    "        X_train_preds = model.predict(X_train)\n",
    "        X_test_preds = model.predict(X_test)\n",
    "    else:\n",
    "        X_train_preds = model.predict_proba(X_train)[:, 1]\n",
    "        X_test_preds = model.predict_proba(X_test)[:, 1]\n",
    "\n",
    "    X_train_preds_acc = model.predict(X_train)\n",
    "    X_test_preds_acc = model.predict(X_test)\n",
    "    \n",
    "    print('Train auc:', roc_auc_score(y_train, X_train_preds))\n",
    "    print('Test auc:', roc_auc_score(y_test, X_test_preds))\n",
    "    if not isNeuralNetwork or isGridSearch:\n",
    "        print('\\n')\n",
    "        print('Train accuracy: ', accuracy_score(y_train, X_train_preds_acc))\n",
    "        print('Test accuracy: ', accuracy_score(y_test, X_test_preds_acc))\n"
   ]
  },
  {
   "cell_type": "markdown",
   "id": "59ac87e4",
   "metadata": {
    "id": "Qy3XQTtvSh8I",
    "papermill": {
     "duration": 0.078696,
     "end_time": "2022-01-17T21:41:09.853668",
     "exception": false,
     "start_time": "2022-01-17T21:41:09.774972",
     "status": "completed"
    },
    "tags": []
   },
   "source": [
    "### Print best grid search\n",
    "#### `Grid search` was used for find the best hipher paramaeters for out model. "
   ]
  },
  {
   "cell_type": "code",
   "execution_count": 49,
   "id": "6bb12ce9",
   "metadata": {
    "execution": {
     "iopub.execute_input": "2022-01-17T21:41:10.025813Z",
     "iopub.status.busy": "2022-01-17T21:41:10.022450Z",
     "iopub.status.idle": "2022-01-17T21:41:10.028100Z",
     "shell.execute_reply": "2022-01-17T21:41:10.028649Z",
     "shell.execute_reply.started": "2022-01-17T21:30:58.950661Z"
    },
    "id": "Hk6Qu34CSh8I",
    "papermill": {
     "duration": 0.091,
     "end_time": "2022-01-17T21:41:10.028831",
     "exception": false,
     "start_time": "2022-01-17T21:41:09.937831",
     "status": "completed"
    },
    "tags": []
   },
   "outputs": [],
   "source": [
    "if isGridSearch:\n",
    "    print('Best score:', grid_search.best_score_,\n",
    "          '\\nBest params:', grid_search.best_params_)\n",
    "    print('\\n\\n\\n')\n",
    "    means = grid_search.cv_results_['mean_test_score']\n",
    "    stds = grid_search.cv_results_['std_test_score']\n",
    "    params = grid_search.cv_results_['params']\n",
    "    for mean, stdev, param in zip(means, stds, params):\n",
    "        print(\"%f (%f) with: %r\" % (mean, stdev, param))\n"
   ]
  },
  {
   "cell_type": "markdown",
   "id": "eaa0db33",
   "metadata": {
    "id": "dWiMJ9-USh8I",
    "papermill": {
     "duration": 0.081936,
     "end_time": "2022-01-17T21:41:10.189408",
     "exception": false,
     "start_time": "2022-01-17T21:41:10.107472",
     "status": "completed"
    },
    "tags": []
   },
   "source": [
    "### Plotting the ROC Curve\n"
   ]
  },
  {
   "cell_type": "markdown",
   "id": "4ee1bdc5",
   "metadata": {
    "papermill": {
     "duration": 0.077893,
     "end_time": "2022-01-17T21:41:10.345850",
     "exception": false,
     "start_time": "2022-01-17T21:41:10.267957",
     "status": "completed"
    },
    "tags": []
   },
   "source": [
    "A receiver operating characteristic curve, or ROC curve, is a graphical plot that illustrates the diagnostic ability of a classifier system as its discrimination threshold is varied. The ROC curve is created by plotting the true positive rate (TPR) against the false positive rate (FPR) at various threshold settings. \n",
    "The true-positive rate is also known as sensitivity or probability of detection. The false-positive rate is also known as probability of false alarm and can be calculated as sensitivity. The ROC curve is thus the sensitivity as a function of fall-out. In general, if the probability distributions for both detection and false alarm are known, the ROC curve can be generated by plotting the cumulative distribution function of the detection probability in the y-axis versus the cumulative distribution function of the false-alarm probability on the x-axis."
   ]
  },
  {
   "cell_type": "code",
   "execution_count": 50,
   "id": "2d2483c6",
   "metadata": {
    "execution": {
     "iopub.execute_input": "2022-01-17T21:41:10.513204Z",
     "iopub.status.busy": "2022-01-17T21:41:10.512434Z",
     "iopub.status.idle": "2022-01-17T21:41:10.520073Z",
     "shell.execute_reply": "2022-01-17T21:41:10.520601Z",
     "shell.execute_reply.started": "2022-01-17T21:30:58.958288Z"
    },
    "id": "Kywfo2doSh8I",
    "papermill": {
     "duration": 0.095695,
     "end_time": "2022-01-17T21:41:10.520793",
     "exception": false,
     "start_time": "2022-01-17T21:41:10.425098",
     "status": "completed"
    },
    "tags": []
   },
   "outputs": [],
   "source": [
    "from sklearn import metrics\n",
    "\n",
    "\n",
    "def draw_roc(actual, probs):\n",
    "    fpr, tpr, thresholds = metrics.roc_curve(actual, probs,\n",
    "                                             drop_intermediate=False)\n",
    "    auc_score = metrics.roc_auc_score(actual, probs)\n",
    "    plt.figure(figsize=(5, 5))\n",
    "    plt.plot(fpr, tpr, label='ROC curve (area = %0.2f)' % auc_score)\n",
    "    plt.plot([0, 1], [0, 1], 'k--')\n",
    "    plt.xlim([0.0, 1.0])\n",
    "    plt.ylim([0.0, 1.05])\n",
    "    plt.xlabel('False Positive Rate')\n",
    "    plt.ylabel('True Positive Rate')\n",
    "    plt.title('Receiver operating characteristic')\n",
    "    plt.legend(loc=\"lower right\")\n",
    "    plt.show()\n"
   ]
  },
  {
   "cell_type": "code",
   "execution_count": 51,
   "id": "d3f71ae7",
   "metadata": {
    "execution": {
     "iopub.execute_input": "2022-01-17T21:41:10.687704Z",
     "iopub.status.busy": "2022-01-17T21:41:10.686961Z",
     "iopub.status.idle": "2022-01-17T21:41:10.917222Z",
     "shell.execute_reply": "2022-01-17T21:41:10.917805Z",
     "shell.execute_reply.started": "2022-01-17T21:30:58.971558Z"
    },
    "id": "GWqNNBOtSh8I",
    "papermill": {
     "duration": 0.315066,
     "end_time": "2022-01-17T21:41:10.917997",
     "exception": false,
     "start_time": "2022-01-17T21:41:10.602931",
     "status": "completed"
    },
    "tags": []
   },
   "outputs": [
    {
     "data": {
      "image/png": "[encoded data removed]",
      "text/plain": [
       "<Figure size 360x360 with 1 Axes>"
      ]
     },
     "metadata": {
      "needs_background": "light"
     },
     "output_type": "display_data"
    }
   ],
   "source": [
    "if isAnyModel:\n",
    "    draw_roc(y_test, X_test_preds)\n"
   ]
  },
  {
   "cell_type": "code",
   "execution_count": 52,
   "id": "a13a036d",
   "metadata": {
    "execution": {
     "iopub.execute_input": "2022-01-17T21:41:11.083581Z",
     "iopub.status.busy": "2022-01-17T21:41:11.082758Z",
     "iopub.status.idle": "2022-01-17T21:41:11.165121Z",
     "shell.execute_reply": "2022-01-17T21:41:11.164451Z",
     "shell.execute_reply.started": "2022-01-17T21:30:59.198891Z"
    },
    "id": "_-prZrpcSh8I",
    "papermill": {
     "duration": 0.167226,
     "end_time": "2022-01-17T21:41:11.165271",
     "exception": false,
     "start_time": "2022-01-17T21:41:10.998045",
     "status": "completed"
    },
    "tags": []
   },
   "outputs": [
    {
     "data": {
      "text/html": [
       "        <script type=\"text/javascript\">\n",
       "        window.PlotlyConfig = {MathJaxConfig: 'local'};\n",
       "        if (window.MathJax) {MathJax.Hub.Config({SVG: {font: \"STIX-Web\"}});}\n",
       "        if (typeof require !== 'undefined') {\n",
       "        require.undef(\"plotly\");\n",
       "        requirejs.config({\n",
       "            paths: {\n",
       "                'plotly': ['https://cdn.plot.ly/plotly-2.9.0.min']\n",
       "            }\n",
       "        });\n",
       "        require(['plotly'], function(Plotly) {\n",
       "            window._Plotly = Plotly;\n",
       "        });\n",
       "        }\n",
       "        </script>\n",
       "        "
      ]
     },
     "metadata": {},
     "output_type": "display_data"
    }
   ],
   "source": [
    "import plotly.offline as py\n",
    "import plotly.graph_objs as go\n",
    "py.init_notebook_mode(connected=True)\n",
    "\n",
    "\n",
    "def plot_learning_history(modelHistory, epochs_num=None):\n",
    "    if epochs_num:\n",
    "        x = np.arange(epochs_num)\n",
    "    else:\n",
    "        x = None\n",
    "    history = modelHistory.history\n",
    "\n",
    "    try:\n",
    "        if not isLearningData:\n",
    "            hist = [\n",
    "                go.Scatter(x=x, y=history[\"auc\"], name=\"Train AUC\", marker=dict(\n",
    "                    size=5), yaxis='y2'),\n",
    "                go.Scatter(x=x, y=history[\"loss\"],\n",
    "                           name=\"Train Loss\", marker=dict(size=5)),\n",
    "            ]\n",
    "        else:\n",
    "            hist = [\n",
    "                go.Scatter(x=x, y=history[\"accuracy\"], name=\"Train Accuracy\", marker=dict(\n",
    "                    size=5), yaxis='y3'),\n",
    "                go.Scatter(x=x, y=history[\"val_accuracy\"], name=\"Test Accuracy\", marker=dict(\n",
    "                    size=5), yaxis='y3'),\n",
    "                go.Scatter(x=x, y=history[\"auc\"], name=\"Train AUC\", marker=dict(\n",
    "                    size=5), yaxis='y2'),\n",
    "                go.Scatter(x=x, y=history[\"val_auc\"], name=\"Test AUC\", marker=dict(\n",
    "                    size=5), yaxis='y2'),\n",
    "                go.Scatter(x=x, y=history[\"loss\"],\n",
    "                           name=\"Train Loss\", marker=dict(size=5)),\n",
    "                go.Scatter(x=x, y=history[\"val_loss\"],\n",
    "                           name=\"Test Loss\", marker=dict(size=5))\n",
    "            ]\n",
    "    except:\n",
    "        if not isLearningData:\n",
    "            hist = [\n",
    "                go.Scatter(x=x, y=history[\"auc\"], name=\"Train AUC\", marker=dict(\n",
    "                    size=5), yaxis='y2'),\n",
    "                go.Scatter(x=x, y=history[\"loss\"],\n",
    "                           name=\"Train Loss\", marker=dict(size=5)),\n",
    "            ]\n",
    "        else:\n",
    "            hist = [\n",
    "                go.Scatter(x=x, y=history[\"acc\"], name=\"Train Accuracy\", marker=dict(\n",
    "                    size=5), yaxis='y2'),\n",
    "                go.Scatter(x=x, y=history[\"val_acc\"], name=\"Test Accuracy\", marker=dict(\n",
    "                    size=5), yaxis='y2'),\n",
    "                go.Scatter(x=x, y=history[\"loss\"],\n",
    "                           name=\"Train Loss\", marker=dict(size=5)),\n",
    "                go.Scatter(x=x, y=history[\"val_loss\"],\n",
    "                           name=\"Test Loss\", marker=dict(size=5))\n",
    "            ]\n",
    "\n",
    "    layout = go.Layout(\n",
    "        title=\"Model Training Evolution\", font=dict(family='Palatino'), xaxis=dict(title='Epoch', dtick=1),\n",
    "        yaxis1=dict(title=\"Loss\", domain=[0, 0.35]), yaxis2=dict(title=\"Accuracy\", domain=[0.4, 0.70]), yaxis3=dict(title=\"AUC\", domain=[0.75, 1])\n",
    "    )\n",
    "    py.iplot(go.Figure(data=hist, layout=layout), show_link=False)\n"
   ]
  },
  {
   "cell_type": "markdown",
   "id": "729000fd",
   "metadata": {
    "papermill": {
     "duration": 0.080616,
     "end_time": "2022-01-17T21:41:11.328475",
     "exception": false,
     "start_time": "2022-01-17T21:41:11.247859",
     "status": "completed"
    },
    "tags": []
   },
   "source": [
    "### Learning history \n",
    "#### `plot_learning_history()` give us information about . We use it for find optimal number of epochs. History show us information about overfitting model. Chart with loss shows how the model learns, it means that if there are large fluctuations, the model is overloaded. In the model, the learning rate should be increased or the number of epochs should be increased. To sum up, model history shows us in what direction the model is heading and whether it is developing."
   ]
  },
  {
   "cell_type": "code",
   "execution_count": 53,
   "id": "3dd4314e",
   "metadata": {
    "execution": {
     "iopub.execute_input": "2022-01-17T21:41:11.496056Z",
     "iopub.status.busy": "2022-01-17T21:41:11.495142Z",
     "iopub.status.idle": "2022-01-17T21:41:12.676451Z",
     "shell.execute_reply": "2022-01-17T21:41:12.677008Z",
     "shell.execute_reply.started": "2022-01-17T21:30:59.224429Z"
    },
    "id": "3LDi05P5Sh8J",
    "papermill": {
     "duration": 1.267935,
     "end_time": "2022-01-17T21:41:12.677188",
     "exception": false,
     "start_time": "2022-01-17T21:41:11.409253",
     "status": "completed"
    },
    "tags": []
   },
   "outputs": [
    {
     "data": {
      "application/vnd.plotly.v1+json": {
       "config": {
        "linkText": "Export to plot.ly",
        "plotlyServerURL": "https://plot.ly",
        "showLink": false
       },
       "data": [
        {
         "marker": {
          "size": 5
         },
         "name": "Train Accuracy",
         "type": "scatter",
         "y": [
          0.7647058963775635,
          0.7972972989082336,
          0.7890831828117371,
          0.7996820211410522,
          0.7930577397346497,
          0.7983571887016296,
          0.8047164678573608,
          0.8023317456245422,
          0.7988871335983276,
          0.8036565780639648,
          0.8068362474441528
         ],
         "yaxis": "y3"
        },
        {
         "marker": {
          "size": 5
         },
         "name": "Test Accuracy",
         "type": "scatter",
         "y": [
          0.7897849678993225,
          0.7811827659606934,
          0.7919355034828186,
          0.7913978695869446,
          0.7930107712745667,
          0.7924731373786926,
          0.7913978695869446,
          0.7908602356910706,
          0.7946236729621887,
          0.7956989407539368,
          0.7935484051704407
         ],
         "yaxis": "y3"
        },
        {
         "marker": {
          "size": 5
         },
         "name": "Train AUC",
         "type": "scatter",
         "y": [
          0.7792558073997498,
          0.8341739177703857,
          0.8338683843612671,
          0.8417909741401672,
          0.8364567756652832,
          0.8394762277603149,
          0.8454011678695679,
          0.8408992290496826,
          0.8443709015846252,
          0.8458898067474365,
          0.8479629158973694
         ],
         "yaxis": "y2"
        },
        {
         "marker": {
          "size": 5
         },
         "name": "Test AUC",
         "type": "scatter",
         "y": [
          0.8250200748443604,
          0.827926754951477,
          0.8284544348716736,
          0.8281868696212769,
          0.829624354839325,
          0.8292911052703857,
          0.8294668197631836,
          0.8300600647926331,
          0.830290675163269,
          0.830395519733429,
          0.8304671049118042
         ],
         "yaxis": "y2"
        },
        {
         "marker": {
          "size": 5
         },
         "name": "Train Loss",
         "type": "scatter",
         "y": [
          0.4820346534252167,
          0.433836966753006,
          0.4337024390697479,
          0.42573198676109314,
          0.4316699206829071,
          0.42775487899780273,
          0.42097342014312744,
          0.42605769634246826,
          0.42143744230270386,
          0.420567125082016,
          0.4182431697845459
         ]
        },
        {
         "marker": {
          "size": 5
         },
         "name": "Test Loss",
         "type": "scatter",
         "y": [
          0.4374837577342987,
          0.45952078700065613,
          0.4361642897129059,
          0.4311344623565674,
          0.43416351079940796,
          0.432125449180603,
          0.4346984922885895,
          0.4437091648578644,
          0.4289200007915497,
          0.4314825236797333,
          0.4317808449268341
         ]
        }
       ],
       "layout": {
        "font": {
         "family": "Palatino"
        },
        "template": {
         "data": {
          "bar": [
           {
            "error_x": {
             "color": "#2a3f5f"
            },
            "error_y": {
             "color": "#2a3f5f"
            },
            "marker": {
             "line": {
              "color": "#E5ECF6",
              "width": 0.5
             },
             "pattern": {
              "fillmode": "overlay",
              "size": 10,
              "solidity": 0.2
             }
            },
            "type": "bar"
           }
          ],
          "barpolar": [
           {
            "marker": {
             "line": {
              "color": "#E5ECF6",
              "width": 0.5
             },
             "pattern": {
              "fillmode": "overlay",
              "size": 10,
              "solidity": 0.2
             }
            },
            "type": "barpolar"
           }
          ],
          "carpet": [
           {
            "aaxis": {
             "endlinecolor": "#2a3f5f",
             "gridcolor": "white",
             "linecolor": "white",
             "minorgridcolor": "white",
             "startlinecolor": "#2a3f5f"
            },
            "baxis": {
             "endlinecolor": "#2a3f5f",
             "gridcolor": "white",
             "linecolor": "white",
             "minorgridcolor": "white",
             "startlinecolor": "#2a3f5f"
            },
            "type": "carpet"
           }
          ],
          "choropleth": [
           {
            "colorbar": {
             "outlinewidth": 0,
             "ticks": ""
            },
            "type": "choropleth"
           }
          ],
          "contour": [
           {
            "colorbar": {
             "outlinewidth": 0,
             "ticks": ""
            },
            "colorscale": [
             [
              0,
              "#0d0887"
             ],
             [
              0.1111111111111111,
              "#46039f"
             ],
             [
              0.2222222222222222,
              "#7201a8"
             ],
             [
              0.3333333333333333,
              "#9c179e"
             ],
             [
              0.4444444444444444,
              "#bd3786"
             ],
             [
              0.5555555555555556,
              "#d8576b"
             ],
             [
              0.6666666666666666,
              "#ed7953"
             ],
             [
              0.7777777777777778,
              "#fb9f3a"
             ],
             [
              0.8888888888888888,
              "#fdca26"
             ],
             [
              1,
              "#f0f921"
             ]
            ],
            "type": "contour"
           }
          ],
          "contourcarpet": [
           {
            "colorbar": {
             "outlinewidth": 0,
             "ticks": ""
            },
            "type": "contourcarpet"
           }
          ],
          "heatmap": [
           {
            "colorbar": {
             "outlinewidth": 0,
             "ticks": ""
            },
            "colorscale": [
             [
              0,
              "#0d0887"
             ],
             [
              0.1111111111111111,
              "#46039f"
             ],
             [
              0.2222222222222222,
              "#7201a8"
             ],
             [
              0.3333333333333333,
              "#9c179e"
             ],
             [
              0.4444444444444444,
              "#bd3786"
             ],
             [
              0.5555555555555556,
              "#d8576b"
             ],
             [
              0.6666666666666666,
              "#ed7953"
             ],
             [
              0.7777777777777778,
              "#fb9f3a"
             ],
             [
              0.8888888888888888,
              "#fdca26"
             ],
             [
              1,
              "#f0f921"
             ]
            ],
            "type": "heatmap"
           }
          ],
          "heatmapgl": [
           {
            "colorbar": {
             "outlinewidth": 0,
             "ticks": ""
            },
            "colorscale": [
             [
              0,
              "#0d0887"
             ],
             [
              0.1111111111111111,
              "#46039f"
             ],
             [
              0.2222222222222222,
              "#7201a8"
             ],
             [
              0.3333333333333333,
              "#9c179e"
             ],
             [
              0.4444444444444444,
              "#bd3786"
             ],
             [
              0.5555555555555556,
              "#d8576b"
             ],
             [
              0.6666666666666666,
              "#ed7953"
             ],
             [
              0.7777777777777778,
              "#fb9f3a"
             ],
             [
              0.8888888888888888,
              "#fdca26"
             ],
             [
              1,
              "#f0f921"
             ]
            ],
            "type": "heatmapgl"
           }
          ],
          "histogram": [
           {
            "marker": {
             "pattern": {
              "fillmode": "overlay",
              "size": 10,
              "solidity": 0.2
             }
            },
            "type": "histogram"
           }
          ],
          "histogram2d": [
           {
            "colorbar": {
             "outlinewidth": 0,
             "ticks": ""
            },
            "colorscale": [
             [
              0,
              "#0d0887"
             ],
             [
              0.1111111111111111,
              "#46039f"
             ],
             [
              0.2222222222222222,
              "#7201a8"
             ],
             [
              0.3333333333333333,
              "#9c179e"
             ],
             [
              0.4444444444444444,
              "#bd3786"
             ],
             [
              0.5555555555555556,
              "#d8576b"
             ],
             [
              0.6666666666666666,
              "#ed7953"
             ],
             [
              0.7777777777777778,
              "#fb9f3a"
             ],
             [
              0.8888888888888888,
              "#fdca26"
             ],
             [
              1,
              "#f0f921"
             ]
            ],
            "type": "histogram2d"
           }
          ],
          "histogram2dcontour": [
           {
            "colorbar": {
             "outlinewidth": 0,
             "ticks": ""
            },
            "colorscale": [
             [
              0,
              "#0d0887"
             ],
             [
              0.1111111111111111,
              "#46039f"
             ],
             [
              0.2222222222222222,
              "#7201a8"
             ],
             [
              0.3333333333333333,
              "#9c179e"
             ],
             [
              0.4444444444444444,
              "#bd3786"
             ],
             [
              0.5555555555555556,
              "#d8576b"
             ],
             [
              0.6666666666666666,
              "#ed7953"
             ],
             [
              0.7777777777777778,
              "#fb9f3a"
             ],
             [
              0.8888888888888888,
              "#fdca26"
             ],
             [
              1,
              "#f0f921"
             ]
            ],
            "type": "histogram2dcontour"
           }
          ],
          "mesh3d": [
           {
            "colorbar": {
             "outlinewidth": 0,
             "ticks": ""
            },
            "type": "mesh3d"
           }
          ],
          "parcoords": [
           {
            "line": {
             "colorbar": {
              "outlinewidth": 0,
              "ticks": ""
             }
            },
            "type": "parcoords"
           }
          ],
          "pie": [
           {
            "automargin": true,
            "type": "pie"
           }
          ],
          "scatter": [
           {
            "marker": {
             "colorbar": {
              "outlinewidth": 0,
              "ticks": ""
             }
            },
            "type": "scatter"
           }
          ],
          "scatter3d": [
           {
            "line": {
             "colorbar": {
              "outlinewidth": 0,
              "ticks": ""
             }
            },
            "marker": {
             "colorbar": {
              "outlinewidth": 0,
              "ticks": ""
             }
            },
            "type": "scatter3d"
           }
          ],
          "scattercarpet": [
           {
            "marker": {
             "colorbar": {
              "outlinewidth": 0,
              "ticks": ""
             }
            },
            "type": "scattercarpet"
           }
          ],
          "scattergeo": [
           {
            "marker": {
             "colorbar": {
              "outlinewidth": 0,
              "ticks": ""
             }
            },
            "type": "scattergeo"
           }
          ],
          "scattergl": [
           {
            "marker": {
             "colorbar": {
              "outlinewidth": 0,
              "ticks": ""
             }
            },
            "type": "scattergl"
           }
          ],
          "scattermapbox": [
           {
            "marker": {
             "colorbar": {
              "outlinewidth": 0,
              "ticks": ""
             }
            },
            "type": "scattermapbox"
           }
          ],
          "scatterpolar": [
           {
            "marker": {
             "colorbar": {
              "outlinewidth": 0,
              "ticks": ""
             }
            },
            "type": "scatterpolar"
           }
          ],
          "scatterpolargl": [
           {
            "marker": {
             "colorbar": {
              "outlinewidth": 0,
              "ticks": ""
             }
            },
            "type": "scatterpolargl"
           }
          ],
          "scatterternary": [
           {
            "marker": {
             "colorbar": {
              "outlinewidth": 0,
              "ticks": ""
             }
            },
            "type": "scatterternary"
           }
          ],
          "surface": [
           {
            "colorbar": {
             "outlinewidth": 0,
             "ticks": ""
            },
            "colorscale": [
             [
              0,
              "#0d0887"
             ],
             [
              0.1111111111111111,
              "#46039f"
             ],
             [
              0.2222222222222222,
              "#7201a8"
             ],
             [
              0.3333333333333333,
              "#9c179e"
             ],
             [
              0.4444444444444444,
              "#bd3786"
             ],
             [
              0.5555555555555556,
              "#d8576b"
             ],
             [
              0.6666666666666666,
              "#ed7953"
             ],
             [
              0.7777777777777778,
              "#fb9f3a"
             ],
             [
              0.8888888888888888,
              "#fdca26"
             ],
             [
              1,
              "#f0f921"
             ]
            ],
            "type": "surface"
           }
          ],
          "table": [
           {
            "cells": {
             "fill": {
              "color": "#EBF0F8"
             },
             "line": {
              "color": "white"
             }
            },
            "header": {
             "fill": {
              "color": "#C8D4E3"
             },
             "line": {
              "color": "white"
             }
            },
            "type": "table"
           }
          ]
         },
         "layout": {
          "annotationdefaults": {
           "arrowcolor": "#2a3f5f",
           "arrowhead": 0,
           "arrowwidth": 1
          },
          "autotypenumbers": "strict",
          "coloraxis": {
           "colorbar": {
            "outlinewidth": 0,
            "ticks": ""
           }
          },
          "colorscale": {
           "diverging": [
            [
             0,
             "#8e0152"
            ],
            [
             0.1,
             "#c51b7d"
            ],
            [
             0.2,
             "#de77ae"
            ],
            [
             0.3,
             "#f1b6da"
            ],
            [
             0.4,
             "#fde0ef"
            ],
            [
             0.5,
             "#f7f7f7"
            ],
            [
             0.6,
             "#e6f5d0"
            ],
            [
             0.7,
             "#b8e186"
            ],
            [
             0.8,
             "#7fbc41"
            ],
            [
             0.9,
             "#4d9221"
            ],
            [
             1,
             "#276419"
            ]
           ],
           "sequential": [
            [
             0,
             "#0d0887"
            ],
            [
             0.1111111111111111,
             "#46039f"
            ],
            [
             0.2222222222222222,
             "#7201a8"
            ],
            [
             0.3333333333333333,
             "#9c179e"
            ],
            [
             0.4444444444444444,
             "#bd3786"
            ],
            [
             0.5555555555555556,
             "#d8576b"
            ],
            [
             0.6666666666666666,
             "#ed7953"
            ],
            [
             0.7777777777777778,
             "#fb9f3a"
            ],
            [
             0.8888888888888888,
             "#fdca26"
            ],
            [
             1,
             "#f0f921"
            ]
           ],
           "sequentialminus": [
            [
             0,
             "#0d0887"
            ],
            [
             0.1111111111111111,
             "#46039f"
            ],
            [
             0.2222222222222222,
             "#7201a8"
            ],
            [
             0.3333333333333333,
             "#9c179e"
            ],
            [
             0.4444444444444444,
             "#bd3786"
            ],
            [
             0.5555555555555556,
             "#d8576b"
            ],
            [
             0.6666666666666666,
             "#ed7953"
            ],
            [
             0.7777777777777778,
             "#fb9f3a"
            ],
            [
             0.8888888888888888,
             "#fdca26"
            ],
            [
             1,
             "#f0f921"
            ]
           ]
          },
          "colorway": [
           "#636efa",
           "#EF553B",
           "#00cc96",
           "#ab63fa",
           "#FFA15A",
           "#19d3f3",
           "#FF6692",
           "#B6E880",
           "#FF97FF",
           "#FECB52"
          ],
          "font": {
           "color": "#2a3f5f"
          },
          "geo": {
           "bgcolor": "white",
           "lakecolor": "white",
           "landcolor": "#E5ECF6",
           "showlakes": true,
           "showland": true,
           "subunitcolor": "white"
          },
          "hoverlabel": {
           "align": "left"
          },
          "hovermode": "closest",
          "mapbox": {
           "style": "light"
          },
          "paper_bgcolor": "white",
          "plot_bgcolor": "#E5ECF6",
          "polar": {
           "angularaxis": {
            "gridcolor": "white",
            "linecolor": "white",
            "ticks": ""
           },
           "bgcolor": "#E5ECF6",
           "radialaxis": {
            "gridcolor": "white",
            "linecolor": "white",
            "ticks": ""
           }
          },
          "scene": {
           "xaxis": {
            "backgroundcolor": "#E5ECF6",
            "gridcolor": "white",
            "gridwidth": 2,
            "linecolor": "white",
            "showbackground": true,
            "ticks": "",
            "zerolinecolor": "white"
           },
           "yaxis": {
            "backgroundcolor": "#E5ECF6",
            "gridcolor": "white",
            "gridwidth": 2,
            "linecolor": "white",
            "showbackground": true,
            "ticks": "",
            "zerolinecolor": "white"
           },
           "zaxis": {
            "backgroundcolor": "#E5ECF6",
            "gridcolor": "white",
            "gridwidth": 2,
            "linecolor": "white",
            "showbackground": true,
            "ticks": "",
            "zerolinecolor": "white"
           }
          },
          "shapedefaults": {
           "line": {
            "color": "#2a3f5f"
           }
          },
          "ternary": {
           "aaxis": {
            "gridcolor": "white",
            "linecolor": "white",
            "ticks": ""
           },
           "baxis": {
            "gridcolor": "white",
            "linecolor": "white",
            "ticks": ""
           },
           "bgcolor": "#E5ECF6",
           "caxis": {
            "gridcolor": "white",
            "linecolor": "white",
            "ticks": ""
           }
          },
          "title": {
           "x": 0.05
          },
          "xaxis": {
           "automargin": true,
           "gridcolor": "white",
           "linecolor": "white",
           "ticks": "",
           "title": {
            "standoff": 15
           },
           "zerolinecolor": "white",
           "zerolinewidth": 2
          },
          "yaxis": {
           "automargin": true,
           "gridcolor": "white",
           "linecolor": "white",
           "ticks": "",
           "title": {
            "standoff": 15
           },
           "zerolinecolor": "white",
           "zerolinewidth": 2
          }
         }
        },
        "title": {
         "text": "Model Training Evolution"
        },
        "xaxis": {
         "dtick": 1,
         "title": {
          "text": "Epoch"
         }
        },
        "yaxis": {
         "domain": [
          0,
          0.35
         ],
         "title": {
          "text": "Loss"
         }
        },
        "yaxis2": {
         "domain": [
          0.4,
          0.7
         ],
         "title": {
          "text": "Accuracy"
         }
        },
        "yaxis3": {
         "domain": [
          0.75,
          1
         ],
         "title": {
          "text": "AUC"
         }
        }
       }
      },
      "text/html": [
       "<div>                            <div id=\"4200ac61-9b6c-4230-90a9-a01ca3523bc1\" class=\"plotly-graph-div\" style=\"height:525px; width:100%;\"></div>            <script type=\"text/javascript\">                require([\"plotly\"], function(Plotly) {                    window.PLOTLYENV=window.PLOTLYENV || {};                                    if (document.getElementById(\"4200ac61-9b6c-4230-90a9-a01ca3523bc1\")) {                    Plotly.newPlot(                        \"4200ac61-9b6c-4230-90a9-a01ca3523bc1\",                        [{\"marker\":{\"size\":5},\"name\":\"Train Accuracy\",\"y\":[0.7647058963775635,0.7972972989082336,0.7890831828117371,0.7996820211410522,0.7930577397346497,0.7983571887016296,0.8047164678573608,0.8023317456245422,0.7988871335983276,0.8036565780639648,0.8068362474441528],\"yaxis\":\"y3\",\"type\":\"scatter\"},{\"marker\":{\"size\":5},\"name\":\"Test Accuracy\",\"y\":[0.7897849678993225,0.7811827659606934,0.7919355034828186,0.7913978695869446,0.7930107712745667,0.7924731373786926,0.7913978695869446,0.7908602356910706,0.7946236729621887,0.7956989407539368,0.7935484051704407],\"yaxis\":\"y3\",\"type\":\"scatter\"},{\"marker\":{\"size\":5},\"name\":\"Train AUC\",\"y\":[0.7792558073997498,0.8341739177703857,0.8338683843612671,0.8417909741401672,0.8364567756652832,0.8394762277603149,0.8454011678695679,0.8408992290496826,0.8443709015846252,0.8458898067474365,0.8479629158973694],\"yaxis\":\"y2\",\"type\":\"scatter\"},{\"marker\":{\"size\":5},\"name\":\"Test AUC\",\"y\":[0.8250200748443604,0.827926754951477,0.8284544348716736,0.8281868696212769,0.829624354839325,0.8292911052703857,0.8294668197631836,0.8300600647926331,0.830290675163269,0.830395519733429,0.8304671049118042],\"yaxis\":\"y2\",\"type\":\"scatter\"},{\"marker\":{\"size\":5},\"name\":\"Train Loss\",\"y\":[0.4820346534252167,0.433836966753006,0.4337024390697479,0.42573198676109314,0.4316699206829071,0.42775487899780273,0.42097342014312744,0.42605769634246826,0.42143744230270386,0.420567125082016,0.4182431697845459],\"type\":\"scatter\"},{\"marker\":{\"size\":5},\"name\":\"Test Loss\",\"y\":[0.4374837577342987,0.45952078700065613,0.4361642897129059,0.4311344623565674,0.43416351079940796,0.432125449180603,0.4346984922885895,0.4437091648578644,0.4289200007915497,0.4314825236797333,0.4317808449268341],\"type\":\"scatter\"}],                        {\"font\":{\"family\":\"Palatino\"},\"template\":{\"data\":{\"barpolar\":[{\"marker\":{\"line\":{\"color\":\"#E5ECF6\",\"width\":0.5},\"pattern\":{\"fillmode\":\"overlay\",\"size\":10,\"solidity\":0.2}},\"type\":\"barpolar\"}],\"bar\":[{\"error_x\":{\"color\":\"#2a3f5f\"},\"error_y\":{\"color\":\"#2a3f5f\"},\"marker\":{\"line\":{\"color\":\"#E5ECF6\",\"width\":0.5},\"pattern\":{\"fillmode\":\"overlay\",\"size\":10,\"solidity\":0.2}},\"type\":\"bar\"}],\"carpet\":[{\"aaxis\":{\"endlinecolor\":\"#2a3f5f\",\"gridcolor\":\"white\",\"linecolor\":\"white\",\"minorgridcolor\":\"white\",\"startlinecolor\":\"#2a3f5f\"},\"baxis\":{\"endlinecolor\":\"#2a3f5f\",\"gridcolor\":\"white\",\"linecolor\":\"white\",\"minorgridcolor\":\"white\",\"startlinecolor\":\"#2a3f5f\"},\"type\":\"carpet\"}],\"choropleth\":[{\"colorbar\":{\"outlinewidth\":0,\"ticks\":\"\"},\"type\":\"choropleth\"}],\"contourcarpet\":[{\"colorbar\":{\"outlinewidth\":0,\"ticks\":\"\"},\"type\":\"contourcarpet\"}],\"contour\":[{\"colorbar\":{\"outlinewidth\":0,\"ticks\":\"\"},\"colorscale\":[[0.0,\"#0d0887\"],[0.1111111111111111,\"#46039f\"],[0.2222222222222222,\"#7201a8\"],[0.3333333333333333,\"#9c179e\"],[0.4444444444444444,\"#bd3786\"],[0.5555555555555556,\"#d8576b\"],[0.6666666666666666,\"#ed7953\"],[0.7777777777777778,\"#fb9f3a\"],[0.8888888888888888,\"#fdca26\"],[1.0,\"#f0f921\"]],\"type\":\"contour\"}],\"heatmapgl\":[{\"colorbar\":{\"outlinewidth\":0,\"ticks\":\"\"},\"colorscale\":[[0.0,\"#0d0887\"],[0.1111111111111111,\"#46039f\"],[0.2222222222222222,\"#7201a8\"],[0.3333333333333333,\"#9c179e\"],[0.4444444444444444,\"#bd3786\"],[0.5555555555555556,\"#d8576b\"],[0.6666666666666666,\"#ed7953\"],[0.7777777777777778,\"#fb9f3a\"],[0.8888888888888888,\"#fdca26\"],[1.0,\"#f0f921\"]],\"type\":\"heatmapgl\"}],\"heatmap\":[{\"colorbar\":{\"outlinewidth\":0,\"ticks\":\"\"},\"colorscale\":[[0.0,\"#0d0887\"],[0.1111111111111111,\"#46039f\"],[0.2222222222222222,\"#7201a8\"],[0.3333333333333333,\"#9c179e\"],[0.4444444444444444,\"#bd3786\"],[0.5555555555555556,\"#d8576b\"],[0.6666666666666666,\"#ed7953\"],[0.7777777777777778,\"#fb9f3a\"],[0.8888888888888888,\"#fdca26\"],[1.0,\"#f0f921\"]],\"type\":\"heatmap\"}],\"histogram2dcontour\":[{\"colorbar\":{\"outlinewidth\":0,\"ticks\":\"\"},\"colorscale\":[[0.0,\"#0d0887\"],[0.1111111111111111,\"#46039f\"],[0.2222222222222222,\"#7201a8\"],[0.3333333333333333,\"#9c179e\"],[0.4444444444444444,\"#bd3786\"],[0.5555555555555556,\"#d8576b\"],[0.6666666666666666,\"#ed7953\"],[0.7777777777777778,\"#fb9f3a\"],[0.8888888888888888,\"#fdca26\"],[1.0,\"#f0f921\"]],\"type\":\"histogram2dcontour\"}],\"histogram2d\":[{\"colorbar\":{\"outlinewidth\":0,\"ticks\":\"\"},\"colorscale\":[[0.0,\"#0d0887\"],[0.1111111111111111,\"#46039f\"],[0.2222222222222222,\"#7201a8\"],[0.3333333333333333,\"#9c179e\"],[0.4444444444444444,\"#bd3786\"],[0.5555555555555556,\"#d8576b\"],[0.6666666666666666,\"#ed7953\"],[0.7777777777777778,\"#fb9f3a\"],[0.8888888888888888,\"#fdca26\"],[1.0,\"#f0f921\"]],\"type\":\"histogram2d\"}],\"histogram\":[{\"marker\":{\"pattern\":{\"fillmode\":\"overlay\",\"size\":10,\"solidity\":0.2}},\"type\":\"histogram\"}],\"mesh3d\":[{\"colorbar\":{\"outlinewidth\":0,\"ticks\":\"\"},\"type\":\"mesh3d\"}],\"parcoords\":[{\"line\":{\"colorbar\":{\"outlinewidth\":0,\"ticks\":\"\"}},\"type\":\"parcoords\"}],\"pie\":[{\"automargin\":true,\"type\":\"pie\"}],\"scatter3d\":[{\"line\":{\"colorbar\":{\"outlinewidth\":0,\"ticks\":\"\"}},\"marker\":{\"colorbar\":{\"outlinewidth\":0,\"ticks\":\"\"}},\"type\":\"scatter3d\"}],\"scattercarpet\":[{\"marker\":{\"colorbar\":{\"outlinewidth\":0,\"ticks\":\"\"}},\"type\":\"scattercarpet\"}],\"scattergeo\":[{\"marker\":{\"colorbar\":{\"outlinewidth\":0,\"ticks\":\"\"}},\"type\":\"scattergeo\"}],\"scattergl\":[{\"marker\":{\"colorbar\":{\"outlinewidth\":0,\"ticks\":\"\"}},\"type\":\"scattergl\"}],\"scattermapbox\":[{\"marker\":{\"colorbar\":{\"outlinewidth\":0,\"ticks\":\"\"}},\"type\":\"scattermapbox\"}],\"scatterpolargl\":[{\"marker\":{\"colorbar\":{\"outlinewidth\":0,\"ticks\":\"\"}},\"type\":\"scatterpolargl\"}],\"scatterpolar\":[{\"marker\":{\"colorbar\":{\"outlinewidth\":0,\"ticks\":\"\"}},\"type\":\"scatterpolar\"}],\"scatter\":[{\"marker\":{\"colorbar\":{\"outlinewidth\":0,\"ticks\":\"\"}},\"type\":\"scatter\"}],\"scatterternary\":[{\"marker\":{\"colorbar\":{\"outlinewidth\":0,\"ticks\":\"\"}},\"type\":\"scatterternary\"}],\"surface\":[{\"colorbar\":{\"outlinewidth\":0,\"ticks\":\"\"},\"colorscale\":[[0.0,\"#0d0887\"],[0.1111111111111111,\"#46039f\"],[0.2222222222222222,\"#7201a8\"],[0.3333333333333333,\"#9c179e\"],[0.4444444444444444,\"#bd3786\"],[0.5555555555555556,\"#d8576b\"],[0.6666666666666666,\"#ed7953\"],[0.7777777777777778,\"#fb9f3a\"],[0.8888888888888888,\"#fdca26\"],[1.0,\"#f0f921\"]],\"type\":\"surface\"}],\"table\":[{\"cells\":{\"fill\":{\"color\":\"#EBF0F8\"},\"line\":{\"color\":\"white\"}},\"header\":{\"fill\":{\"color\":\"#C8D4E3\"},\"line\":{\"color\":\"white\"}},\"type\":\"table\"}]},\"layout\":{\"annotationdefaults\":{\"arrowcolor\":\"#2a3f5f\",\"arrowhead\":0,\"arrowwidth\":1},\"autotypenumbers\":\"strict\",\"coloraxis\":{\"colorbar\":{\"outlinewidth\":0,\"ticks\":\"\"}},\"colorscale\":{\"diverging\":[[0,\"#8e0152\"],[0.1,\"#c51b7d\"],[0.2,\"#de77ae\"],[0.3,\"#f1b6da\"],[0.4,\"#fde0ef\"],[0.5,\"#f7f7f7\"],[0.6,\"#e6f5d0\"],[0.7,\"#b8e186\"],[0.8,\"#7fbc41\"],[0.9,\"#4d9221\"],[1,\"#276419\"]],\"sequential\":[[0.0,\"#0d0887\"],[0.1111111111111111,\"#46039f\"],[0.2222222222222222,\"#7201a8\"],[0.3333333333333333,\"#9c179e\"],[0.4444444444444444,\"#bd3786\"],[0.5555555555555556,\"#d8576b\"],[0.6666666666666666,\"#ed7953\"],[0.7777777777777778,\"#fb9f3a\"],[0.8888888888888888,\"#fdca26\"],[1.0,\"#f0f921\"]],\"sequentialminus\":[[0.0,\"#0d0887\"],[0.1111111111111111,\"#46039f\"],[0.2222222222222222,\"#7201a8\"],[0.3333333333333333,\"#9c179e\"],[0.4444444444444444,\"#bd3786\"],[0.5555555555555556,\"#d8576b\"],[0.6666666666666666,\"#ed7953\"],[0.7777777777777778,\"#fb9f3a\"],[0.8888888888888888,\"#fdca26\"],[1.0,\"#f0f921\"]]},\"colorway\":[\"#636efa\",\"#EF553B\",\"#00cc96\",\"#ab63fa\",\"#FFA15A\",\"#19d3f3\",\"#FF6692\",\"#B6E880\",\"#FF97FF\",\"#FECB52\"],\"font\":{\"color\":\"#2a3f5f\"},\"geo\":{\"bgcolor\":\"white\",\"lakecolor\":\"white\",\"landcolor\":\"#E5ECF6\",\"showlakes\":true,\"showland\":true,\"subunitcolor\":\"white\"},\"hoverlabel\":{\"align\":\"left\"},\"hovermode\":\"closest\",\"mapbox\":{\"style\":\"light\"},\"paper_bgcolor\":\"white\",\"plot_bgcolor\":\"#E5ECF6\",\"polar\":{\"angularaxis\":{\"gridcolor\":\"white\",\"linecolor\":\"white\",\"ticks\":\"\"},\"bgcolor\":\"#E5ECF6\",\"radialaxis\":{\"gridcolor\":\"white\",\"linecolor\":\"white\",\"ticks\":\"\"}},\"scene\":{\"xaxis\":{\"backgroundcolor\":\"#E5ECF6\",\"gridcolor\":\"white\",\"gridwidth\":2,\"linecolor\":\"white\",\"showbackground\":true,\"ticks\":\"\",\"zerolinecolor\":\"white\"},\"yaxis\":{\"backgroundcolor\":\"#E5ECF6\",\"gridcolor\":\"white\",\"gridwidth\":2,\"linecolor\":\"white\",\"showbackground\":true,\"ticks\":\"\",\"zerolinecolor\":\"white\"},\"zaxis\":{\"backgroundcolor\":\"#E5ECF6\",\"gridcolor\":\"white\",\"gridwidth\":2,\"linecolor\":\"white\",\"showbackground\":true,\"ticks\":\"\",\"zerolinecolor\":\"white\"}},\"shapedefaults\":{\"line\":{\"color\":\"#2a3f5f\"}},\"ternary\":{\"aaxis\":{\"gridcolor\":\"white\",\"linecolor\":\"white\",\"ticks\":\"\"},\"baxis\":{\"gridcolor\":\"white\",\"linecolor\":\"white\",\"ticks\":\"\"},\"bgcolor\":\"#E5ECF6\",\"caxis\":{\"gridcolor\":\"white\",\"linecolor\":\"white\",\"ticks\":\"\"}},\"title\":{\"x\":0.05},\"xaxis\":{\"automargin\":true,\"gridcolor\":\"white\",\"linecolor\":\"white\",\"ticks\":\"\",\"title\":{\"standoff\":15},\"zerolinecolor\":\"white\",\"zerolinewidth\":2},\"yaxis\":{\"automargin\":true,\"gridcolor\":\"white\",\"linecolor\":\"white\",\"ticks\":\"\",\"title\":{\"standoff\":15},\"zerolinecolor\":\"white\",\"zerolinewidth\":2}}},\"title\":{\"text\":\"Model Training Evolution\"},\"xaxis\":{\"dtick\":1,\"title\":{\"text\":\"Epoch\"}},\"yaxis\":{\"domain\":[0,0.35],\"title\":{\"text\":\"Loss\"}},\"yaxis2\":{\"domain\":[0.4,0.7],\"title\":{\"text\":\"Accuracy\"}},\"yaxis3\":{\"domain\":[0.75,1],\"title\":{\"text\":\"AUC\"}}},                        {\"responsive\": true}                    ).then(function(){\n",
       "                            \n",
       "var gd = document.getElementById('4200ac61-9b6c-4230-90a9-a01ca3523bc1');\n",
       "var x = new MutationObserver(function (mutations, observer) {{\n",
       "        var display = window.getComputedStyle(gd).display;\n",
       "        if (!display || display === 'none') {{\n",
       "            console.log([gd, 'removed!']);\n",
       "            Plotly.purge(gd);\n",
       "            observer.disconnect();\n",
       "        }}\n",
       "}});\n",
       "\n",
       "// Listen for the removal of the full notebook cells\n",
       "var notebookContainer = gd.closest('#notebook-container');\n",
       "if (notebookContainer) {{\n",
       "    x.observe(notebookContainer, {childList: true});\n",
       "}}\n",
       "\n",
       "// Listen for the clearing of the current output cell\n",
       "var outputEl = gd.closest('.output');\n",
       "if (outputEl) {{\n",
       "    x.observe(outputEl, {childList: true});\n",
       "}}\n",
       "\n",
       "                        })                };                });            </script>        </div>"
      ]
     },
     "metadata": {},
     "output_type": "display_data"
    }
   ],
   "source": [
    "if not isGridSearch and isNeuralNetwork:\n",
    "    plot_learning_history(history)\n"
   ]
  },
  {
   "cell_type": "markdown",
   "id": "0036023c",
   "metadata": {
    "id": "SeBjyCtAPFD1",
    "papermill": {
     "duration": 0.088389,
     "end_time": "2022-01-17T21:41:12.852991",
     "exception": false,
     "start_time": "2022-01-17T21:41:12.764602",
     "status": "completed"
    },
    "tags": []
   },
   "source": [
    "#### Use trained model to predic samples from `test.csv` and save the results in new file"
   ]
  },
  {
   "cell_type": "code",
   "execution_count": 57,
   "id": "9e752a09",
   "metadata": {
    "execution": {
     "iopub.execute_input": "2022-01-17T21:41:13.038848Z",
     "iopub.status.busy": "2022-01-17T21:41:13.033980Z",
     "iopub.status.idle": "2022-01-17T21:41:13.229346Z",
     "shell.execute_reply": "2022-01-17T21:41:13.228784Z",
     "shell.execute_reply.started": "2022-01-17T21:30:59.281724Z"
    },
    "id": "O_dLxD6APFD3",
    "papermill": {
     "duration": 0.288132,
     "end_time": "2022-01-17T21:41:13.229505",
     "exception": false,
     "start_time": "2022-01-17T21:41:12.941373",
     "status": "completed"
    },
    "tags": []
   },
   "outputs": [
    {
     "name": "stdout",
     "output_type": "stream",
     "text": [
      "Ready\n"
     ]
    }
   ],
   "source": [
    "if isAnyModel:\n",
    "    test = pd.read_csv('datasets/test.csv')\n",
    "    sample_submission = pd.read_csv('datasets/sample.csv')\n",
    "    test = preprocess(test, False)\n",
    "    test = dropUnnecessaryFeatures(test, False)\n",
    "\n",
    "    if isNeuralNetwork:\n",
    "        test = test[numeric_columns]\n",
    "    else:\n",
    "        test = test\n",
    "    \n",
    "    if not isNeuralNetwork:\n",
    "        sample_submission[\"Churn\"] = model.predict_proba(test)[:, 1]\n",
    "    else:\n",
    "        sample_submission[\"Churn\"] = model.predict(test)\n",
    "    sample_submission.to_csv('benchmark.csv', index=False)\n",
    "    print(\"Ready\")\n"
   ]
  },
  {
   "cell_type": "markdown",
   "id": "2d8ba7e3",
   "metadata": {
    "papermill": {
     "duration": 0.086685,
     "end_time": "2022-01-17T21:41:13.406289",
     "exception": false,
     "start_time": "2022-01-17T21:41:13.319604",
     "status": "completed"
    },
    "tags": []
   },
   "source": [
    "### Best scores\n",
    "|The best public score| The best private score | Model |\n",
    "|---------------------|------------------------|-------|\n",
    "|0.85006              |   0.84186              | MLPC\t |\n",
    "|0.85245              |   0.84056              | RFC   |\n",
    "|0.85012              |   0.84414          \t  | Neural Network|\n",
    "\n",
    "#### The data presented in the table shows that the RFC fared best in the public data, while the models based on neural networks turned out to be non-competitive when it comes to predicting the results. "
   ]
  }
 ],
 "metadata": {
  "kernelspec": {
   "display_name": "Python 3",
   "language": "python",
   "name": "python3"
  },
  "language_info": {
   "codemirror_mode": {
    "name": "ipython",
    "version": 3
   },
   "file_extension": ".py",
   "mimetype": "text/x-python",
   "name": "python",
   "nbconvert_exporter": "python",
   "pygments_lexer": "ipython3",
   "version": "3.8.10"
  },
  "papermill": {
   "default_parameters": {},
   "duration": 42.965214,
   "end_time": "2022-01-17T21:41:16.495863",
   "environment_variables": {},
   "exception": null,
   "input_path": "__notebook__.ipynb",
   "output_path": "__notebook__.ipynb",
   "parameters": {},
   "start_time": "2022-01-17T21:40:33.530649",
   "version": "2.3.3"
  }
 },
 "nbformat": 4,
 "nbformat_minor": 5
}
